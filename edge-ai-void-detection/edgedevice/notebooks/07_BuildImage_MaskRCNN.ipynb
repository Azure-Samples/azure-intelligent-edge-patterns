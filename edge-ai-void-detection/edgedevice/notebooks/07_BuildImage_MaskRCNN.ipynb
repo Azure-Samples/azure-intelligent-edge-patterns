{
 "cells": [
  {
   "cell_type": "markdown",
   "metadata": {},
   "source": [
    "# Build Image\n",
    "\n",
    "In this notebook, we show the following steps for deploying a web service using AML:\n",
    "\n",
    "- Create an image\n",
    "- Test image locally\n"
   ]
  },
  {
   "cell_type": "code",
   "execution_count": null,
   "metadata": {},
   "outputs": [],
   "source": [
    "%matplotlib inline\n",
    "\n",
    "import docker\n",
    "import matplotlib.pyplot as plt\n",
    "import numpy as np\n",
    "import requests\n",
    "from azureml.core import Workspace\n",
    "from azure.mgmt.containerregistry import ContainerRegistryManagementClient\n",
    "from azureml._model_management._util import (get_docker_client, pull_docker_image)\n",
    "from azureml.core.conda_dependencies import CondaDependencies\n",
    "from azureml.core.image import ContainerImage\n",
    "from dotenv import set_key, get_key, find_dotenv\n",
    "from utilities import load_image_into_numpy_array\n",
    "from PIL import Image\n",
    "\n",
    "import sys\n",
    "import os\n",
    "import json\n",
    "from object_detection.utils import visualization_utils as vis_util\n",
    "from object_detection.utils import label_map_util\n",
    "from matplotlib import pyplot as plt"
   ]
  },
  {
   "cell_type": "code",
   "execution_count": null,
   "metadata": {},
   "outputs": [],
   "source": [
    "env_path = find_dotenv(raise_error_if_not_found=True)"
   ]
  },
  {
   "cell_type": "code",
   "execution_count": null,
   "metadata": {},
   "outputs": [],
   "source": [
    "image_name = 'maskrcnnoutofstockimage' # You can pick another image name here\n",
    "model_name = get_key(env_path,\"model_name\")\n",
    "resource_group = get_key(env_path, 'resource_group')"
   ]
  },
  {
   "cell_type": "code",
   "execution_count": null,
   "metadata": {},
   "outputs": [],
   "source": [
    "set_key(env_path, \"image_name\", image_name)"
   ]
  },
  {
   "cell_type": "markdown",
   "metadata": {},
   "source": [
    "## Get workspace\n",
    "Load existing workspace from the config file info."
   ]
  },
  {
   "cell_type": "code",
   "execution_count": null,
   "metadata": {},
   "outputs": [],
   "source": [
    "ws = Workspace.from_config()\n",
    "# print(ws.name, ws.resource_group, ws.location, ws.subscription_id, sep = '\\n')"
   ]
  },
  {
   "cell_type": "markdown",
   "metadata": {},
   "source": [
    "## Create Image"
   ]
  },
  {
   "cell_type": "code",
   "execution_count": null,
   "metadata": {},
   "outputs": [],
   "source": [
    "# create yml file to be used in the image\n",
    "conda_pack = [\"tensorflow==1.12.0\"]\n",
    "requirements = [\"Pillow==6.0.0\", \"azureml-defaults==1.0.23\"]\n",
    "\n",
    "imgenv = CondaDependencies.create(conda_packages=conda_pack,pip_packages=requirements)\n",
    "with open(\"img_env.yml\", \"w\") as f:\n",
    "    f.write(imgenv.serialize_to_string())"
   ]
  },
  {
   "cell_type": "code",
   "execution_count": null,
   "metadata": {
    "lines_to_next_cell": 2
   },
   "outputs": [],
   "source": [
    "image_config = ContainerImage.image_configuration(execution_script = \"detect.py\",\n",
    "                                                  runtime = \"python\",\n",
    "                                                  conda_file = \"img_env.yml\",\n",
    "                                                  description = \"MaskRCNN image for out of stock model\",\n",
    "                                                  tags = {\"data\":\"products\",\"method\":\"tensorflow\"}\n",
    "                                               )"
   ]
  },
  {
   "cell_type": "markdown",
   "metadata": {},
   "source": [
    "Configure Container for GPU Inference"
   ]
  },
  {
   "cell_type": "code",
   "execution_count": null,
   "metadata": {},
   "outputs": [],
   "source": [
    "# create yml file to be used in the image\n",
    "conda_pack = [\"tensorflow-gpu==1.12.0\"]\n",
    "requirements = [\"Pillow==6.0.0\", \"azureml-defaults==1.0.23\"]\n",
    "\n",
    "imgenv = CondaDependencies.create(conda_packages=conda_pack,pip_packages=requirements)\n",
    "with open(\"img_env.yml\", \"w\") as f:\n",
    "    f.write(imgenv.serialize_to_string())"
   ]
  },
  {
   "cell_type": "code",
   "execution_count": null,
   "metadata": {
    "lines_to_next_cell": 2
   },
   "outputs": [],
   "source": [
    "image_config = ContainerImage.image_configuration(execution_script = \"detect.py\",\n",
    "                                                  runtime = \"python\",\n",
    "                                                  conda_file = \"img_env.yml\",\n",
    "                                                  enable_gpu=True,\n",
    "                                                  description = \"MaskRCNN image for out of stock model\",\n",
    "                                                  tags = {\"data\":\"products\",\"method\":\"tensorflow\"}\n",
    "                                               )"
   ]
  },
  {
   "cell_type": "code",
   "execution_count": null,
   "metadata": {},
   "outputs": [],
   "source": [
    "# create image. It may take upto 15-20 minutes. \n",
    "image = ContainerImage.create(name = image_name,\n",
    "                              # this is the model object\n",
    "                              models = [ws.models[model_name]],                              \n",
    "                              image_config = image_config,\n",
    "                              workspace = ws)\n",
    "\n",
    "image.wait_for_creation(show_output = True)"
   ]
  },
  {
   "cell_type": "code",
   "execution_count": null,
   "metadata": {},
   "outputs": [],
   "source": [
    "# You can find the logs of image creation\n",
    "# image.image_build_log_uri\n",
    "\n",
    "# You can get the image object when not creating a new image\n",
    "# image = ws.images[image_name]"
   ]
  },
  {
   "cell_type": "markdown",
   "metadata": {},
   "source": [
    "## Test image locally\n",
    "- Pull the image from ACR registry to local host \n",
    "- Start a container\n",
    "- Test API call"
   ]
  },
  {
   "cell_type": "code",
   "execution_count": null,
   "metadata": {},
   "outputs": [],
   "source": [
    "# Getting your container details\n",
    "container_reg = ws.get_details()[\"containerRegistry\"]\n",
    "reg_name=container_reg.split(\"/\")[-1]\n",
    "container_url = \"\\\"\" + image.image_location + \"\\\",\"\n",
    "subscription_id = ws.subscription_id\n",
    "\n",
    "client = ContainerRegistryManagementClient(ws._auth,subscription_id)\n",
    "result= client.registries.list_credentials(resource_group, reg_name, custom_headers=None, raw=False)\n",
    "username = result.username\n",
    "password = result.passwords[0].value\n",
    "print('ContainerURL:{}'.format(image.image_location))\n",
    "print('Servername: {}'.format(reg_name))\n",
    "print('Username: {}'.format(username))\n",
    "print('Password: {}'.format(password))"
   ]
  },
  {
   "cell_type": "code",
   "execution_count": null,
   "metadata": {},
   "outputs": [],
   "source": [
    "dc = get_docker_client()"
   ]
  },
  {
   "cell_type": "code",
   "execution_count": null,
   "metadata": {},
   "outputs": [],
   "source": [
    "pull_docker_image(dc, image.image_location, username, password)"
   ]
  },
  {
   "cell_type": "code",
   "execution_count": null,
   "metadata": {},
   "outputs": [],
   "source": [
    "# make sure port 80 is not occupied\n",
    "container_labels = {'containerName': 'tfgpu'}\n",
    "container = dc.containers.run(image.image_location, \n",
    "                                         detach=True, \n",
    "                                         ports={'5001/tcp': 80},\n",
    "                                         labels=container_labels,\n",
    "                                         runtime='nvidia' )"
   ]
  },
  {
   "cell_type": "code",
   "execution_count": null,
   "metadata": {},
   "outputs": [],
   "source": [
    "for log_msg in container.logs(stream=True):\n",
    "    str_msg = log_msg.decode('UTF8')\n",
    "    print(str_msg)"
   ]
  },
  {
   "cell_type": "code",
   "execution_count": null,
   "metadata": {},
   "outputs": [],
   "source": [
    "client = docker.APIClient()\n",
    "details = client.inspect_container(container.id)"
   ]
  },
  {
   "cell_type": "code",
   "execution_count": null,
   "metadata": {},
   "outputs": [],
   "source": [
    "service_ip = details['NetworkSettings']['Ports']['5001/tcp'][0]['HostIp']\n",
    "service_port = details['NetworkSettings']['Ports']['5001/tcp'][0]['HostPort']"
   ]
  },
  {
   "cell_type": "markdown",
   "metadata": {},
   "source": [
    "Wait a few seconds for the application to spin up and then check that everything works."
   ]
  },
  {
   "cell_type": "code",
   "execution_count": null,
   "metadata": {},
   "outputs": [],
   "source": [
    "print('Checking service on {} port {}'.format(service_ip, service_port))"
   ]
  },
  {
   "cell_type": "code",
   "execution_count": null,
   "metadata": {},
   "outputs": [],
   "source": [
    "endpoint=\"http://__service_ip:__service_port\"\n",
    "endpoint = endpoint.replace('__service_ip', service_ip)\n",
    "endpoint = endpoint.replace('__service_port', service_port)"
   ]
  },
  {
   "cell_type": "code",
   "execution_count": null,
   "metadata": {},
   "outputs": [],
   "source": [
    "!curl 'http://{service_ip}:{service_port}/'"
   ]
  },
  {
   "cell_type": "code",
   "execution_count": null,
   "metadata": {},
   "outputs": [],
   "source": [
    "img_data = open('IMAGE HERE', \"rb\")\n",
    "%time r = requests.post('http://0.0.0.0:80/score', files={'image': img_data})"
   ]
  },
  {
   "cell_type": "code",
   "execution_count": null,
   "metadata": {},
   "outputs": [],
   "source": [
    "print(r)\n",
    "r.json()"
   ]
  },
  {
   "cell_type": "code",
   "execution_count": null,
   "metadata": {},
   "outputs": [],
   "source": [
    "PATH_TO_LABELS = 'stockout_label_map.pbtxt'\n",
    "category_index = label_map_util.create_category_index_from_labelmap(PATH_TO_LABELS, use_display_name=True)\n",
    "\n",
    "IMAGE_SIZE = (24, 18)"
   ]
  },
  {
   "cell_type": "code",
   "execution_count": null,
   "metadata": {},
   "outputs": [],
   "source": [
    "img = Image.open(img_data)\n",
    "image_np = load_image_into_numpy_array(img)\n",
    "output_dict = json.loads(r.json())"
   ]
  },
  {
   "cell_type": "code",
   "execution_count": null,
   "metadata": {},
   "outputs": [],
   "source": [
    "vis_util.visualize_boxes_and_labels_on_image_array(\n",
    "  image_np,\n",
    "  np.array(output_dict['detection_boxes']),\n",
    "  np.array(output_dict['detection_classes']),\n",
    "  np.array(output_dict['detection_scores']),\n",
    "  category_index,\n",
    "  instance_masks=output_dict.get('detection_masks'),\n",
    "  use_normalized_coordinates=True,\n",
    "  line_thickness=4)\n",
    "plt.figure(figsize=IMAGE_SIZE)\n",
    "plt.imshow(image_np)"
   ]
  },
  {
   "cell_type": "code",
   "execution_count": null,
   "metadata": {},
   "outputs": [],
   "source": [
    "container.stop()"
   ]
  },
  {
   "cell_type": "code",
   "execution_count": null,
   "metadata": {},
   "outputs": [],
   "source": [
    "# remove stopped container\n",
    "!docker system prune -f"
   ]
  }
 ],
 "metadata": {
  "jupytext": {
   "formats": "ipynb"
  },
  "kernelspec": {
   "display_name": "Python 3.6 - AzureML",
   "language": "python",
   "name": "python3-azureml"
  },
  "language_info": {
   "codemirror_mode": {
    "name": "ipython",
    "version": 3
   },
   "file_extension": ".py",
   "mimetype": "text/x-python",
   "name": "python",
   "nbconvert_exporter": "python",
   "pygments_lexer": "ipython3",
   "version": "3.6.2"
  }
 },
 "nbformat": 4,
 "nbformat_minor": 2
}
