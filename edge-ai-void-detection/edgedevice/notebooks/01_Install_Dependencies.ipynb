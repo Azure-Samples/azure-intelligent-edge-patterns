{
 "cells": [
  {
   "cell_type": "markdown",
   "metadata": {},
   "source": [
    "Copyright (c) Microsoft Corporation. All rights reserved."
   ]
  },
  {
   "cell_type": "markdown",
   "metadata": {},
   "source": [
    "## Introduction\n",
    "\n",
    "This notebook is to make sure that we have all of the dependencies and datasets to train the model.\n",
    "\n",
    "In this notebook you will\n",
    "* Install TensorFlow\n",
    "* Compile the TensorFlow object detection API\n",
    "* Acquire the Inception V2 pre-trained model.\n",
    "* Upload both the object detection API and pre-trained model to an Azure ML datastore.\n"
   ]
  },
  {
   "cell_type": "markdown",
   "metadata": {},
   "source": [
    "## Install Tensorflow"
   ]
  },
  {
   "cell_type": "code",
   "execution_count": 16,
   "metadata": {},
   "outputs": [],
   "source": [
    "import sys\n",
    "import os\n",
    "import utilities"
   ]
  },
  {
   "cell_type": "code",
   "execution_count": null,
   "metadata": {},
   "outputs": [],
   "source": [
    "!{sys.executable} -m pip install tensorflow\n",
    "!sudo apt-get install -y python-setuptools"
   ]
  },
  {
   "cell_type": "markdown",
   "metadata": {},
   "source": [
    "## Compile the Object Detection API"
   ]
  },
  {
   "cell_type": "code",
   "execution_count": null,
   "metadata": {},
   "outputs": [],
   "source": [
    "!git clone https://github.com/tensorflow/models.git\n",
    "!sudo apt-get install protobuf-compiler python-pil python-lxml python-tk\n",
    "!{sys.executable} -m pip install Cython\n",
    "!{sys.executable} -m pip install contextlib2\n",
    "!{sys.executable} -m pip install jupyter\n",
    "!{sys.executable} -m pip install matplotlib"
   ]
  },
  {
   "cell_type": "code",
   "execution_count": null,
   "metadata": {},
   "outputs": [],
   "source": [
    "os.chdir(\"./models/research/\")\n",
    "!wget -O protobuf.zip https://github.com/google/protobuf/releases/download/v3.0.0/protoc-3.0.0-linux-x86_64.zip\n",
    "!unzip -o protobuf.zip\n",
    "!./bin/protoc object_detection/protos/*.proto --python_out=.\n",
    "!bash object_detection/dataset_tools/create_pycocotools_package.sh /tmp/pycocotools\n",
    "!{sys.executable} -m setup.py sdist\n",
    "!(cd slim && {sys.executable} -m setup.py sdist)\n",
    "os.chdir(\"../../\")"
   ]
  },
  {
   "cell_type": "code",
   "execution_count": null,
   "metadata": {},
   "outputs": [],
   "source": [
    "os.mkdir(\"./packages\")\n",
    "shutil.copy(\"./models/research/dist/object_detection-0.1.tar.gz\",\"./packages/object_detection-0.1.tar.gz\")\n",
    "shutil.copy(\"./models/research/slim/dist/slim-0.1.tar.gz\",\"./packages/slim-0.1.tar.gz\")\n",
    "shutil.copy(\"/tmp/pycocotools/pycocotools-2.0.tar.gz\",\"./packages/pycocotools-2.0.tar.gz\")"
   ]
  },
  {
   "cell_type": "markdown",
   "metadata": {},
   "source": [
    "### Add the Object Detection API to the Datastore"
   ]
  },
  {
   "cell_type": "code",
   "execution_count": null,
   "metadata": {},
   "outputs": [],
   "source": [
    "ws = Workspace.from_config()\n",
    "ds = ws.get_default_datastore()\n",
    "print(ds.datastore_type, ds.account_name, ds.container_name)\n",
    "\n",
    "ds.upload(src_dir=\"./packages\", target_path='./packages',\n",
    "          overwrite=True, show_progress=True)"
   ]
  },
  {
   "cell_type": "markdown",
   "metadata": {},
   "source": [
    "### Add the Object Detection API to the local environment"
   ]
  },
  {
   "cell_type": "code",
   "execution_count": null,
   "metadata": {},
   "outputs": [],
   "source": [
    "!{sys.executable} -m pip install ./packages/object_detection-0.1.tar.gz\n",
    "!{sys.executable} -m pip install ./packages/slim-0.1.tar.gz\n",
    "!{sys.executable} -m pip install ./packages/pycocotools-2.0.tar.gz"
   ]
  },
  {
   "cell_type": "markdown",
   "metadata": {},
   "source": [
    "## Acquire and Upload the Inception V2 model"
   ]
  },
  {
   "cell_type": "code",
   "execution_count": null,
   "metadata": {},
   "outputs": [],
   "source": [
    "!wget http://download.tensorflow.org/models/object_detection/mask_rcnn_inception_v2_coco_2018_01_28.tar.gz"
   ]
  },
  {
   "cell_type": "code",
   "execution_count": null,
   "metadata": {},
   "outputs": [],
   "source": [
    "!tar -xzvf mask_rcnn_inception_v2_coco_2018_01_28.tar.gz"
   ]
  },
  {
   "cell_type": "code",
   "execution_count": null,
   "metadata": {},
   "outputs": [],
   "source": [
    "ws = Workspace.from_config()\n",
    "ds = ws.get_default_datastore()\n",
    "print(ds.datastore_type, ds.account_name, ds.container_name)\n",
    "\n",
    "ds.upload(src_dir=\"./mask_rcnn_inception_v2_coco_2018_01_28\", target_path='./mask_rcnn_inception_v2_coco_2018_01_28',\n",
    "          overwrite=True, show_progress=True)"
   ]
  },
  {
   "cell_type": "markdown",
   "metadata": {},
   "source": [
    "You can now proceed to next notebook to acquire the dataset."
   ]
  }
 ],
 "metadata": {
  "authors": [
   {
    "name": "roastala"
   }
  ],
  "kernelspec": {
   "display_name": "Python 3.6 - AzureML",
   "language": "python",
   "name": "python3-azureml"
  },
  "language_info": {
   "codemirror_mode": {
    "name": "ipython",
    "version": 3
   },
   "file_extension": ".py",
   "mimetype": "text/x-python",
   "name": "python",
   "nbconvert_exporter": "python",
   "pygments_lexer": "ipython3",
   "version": "3.6.2"
  }
 },
 "nbformat": 4,
 "nbformat_minor": 2
}
