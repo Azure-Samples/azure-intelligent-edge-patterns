{
 "cells": [
  {
   "cell_type": "markdown",
   "metadata": {
    "collapsed": true
   },
   "source": [
    "## 2. Create Required Azure Services\n",
    "You should run first jupyter notebook (01_setup_environment.ipynb) in this sample to set the global variables. Once it is run, you dont need to repeat it again and again as the variables etc. stored in an environment file. You may need to run it again only in case you delete the \".env\" file or your Azure login session expires."
   ]
  },
  {
   "cell_type": "markdown",
   "metadata": {},
   "source": [
    "### 2.1. Get global variables\n",
    "We will read the previously stored variables"
   ]
  },
  {
   "cell_type": "code",
   "execution_count": 2,
   "metadata": {},
   "outputs": [],
   "source": [
    "from dotenv import set_key, get_key, find_dotenv\n",
    "envPath = find_dotenv(raise_error_if_not_found=True)\n",
    "\n",
    "azureSubsctiptionId = get_key(envPath, \"azureSubsctiptionId\")\n",
    "resourceLocation = get_key(envPath, \"resourceLocation\")\n",
    "resourceGroupName = get_key(envPath, \"resourceGroupName\")\n",
    "containerRegServiceName = get_key(envPath, \"containerRegServiceName\")\n",
    "iotHubServiceName = get_key(envPath, \"iotHubServiceName\")\n",
    "iotDeviceId = get_key(envPath, \"iotDeviceId\")"
   ]
  },
  {
   "cell_type": "markdown",
   "metadata": {},
   "source": [
    "### 2.2. Create Resource Group"
   ]
  },
  {
   "cell_type": "code",
   "execution_count": null,
   "metadata": {},
   "outputs": [],
   "source": [
    "!az group create --name $resourceGroupName --location  $resourceLocation"
   ]
  },
  {
   "cell_type": "markdown",
   "metadata": {},
   "source": [
    "### 2.3. Create Azure Container Registry Service"
   ]
  },
  {
   "cell_type": "code",
   "execution_count": null,
   "metadata": {},
   "outputs": [],
   "source": [
    "!az acr create --name $containerRegServiceName --resource-group $resourceGroupName --location $resourceLocation --sku Basic --admin-enabled true"
   ]
  },
  {
   "cell_type": "markdown",
   "metadata": {},
   "source": [
    "<span style=\"color:red; font-weight: bold; font-size:1.1em;\"> [!Important] </span>  \n",
    "Even the execution of above cell seems to be finished, it may take some time (several seconds) to have the changes reflected on Azure Datacenter. So if you immediately run the below cells after the execution of above one, it may give error by complaining that the ACR service doesnt exists...\n"
   ]
  },
  {
   "cell_type": "markdown",
   "metadata": {},
   "source": [
    "#### 2.3.1. Get access credentials to the ACR service"
   ]
  },
  {
   "cell_type": "code",
   "execution_count": 3,
   "metadata": {},
   "outputs": [],
   "source": [
    "%%bash --out output -s \"$containerRegServiceName\"\n",
    "az acr credential show -n $1"
   ]
  },
  {
   "cell_type": "code",
   "execution_count": 4,
   "metadata": {},
   "outputs": [],
   "source": [
    "import json\n",
    "jsonRegDetails = json.loads(output)\n",
    "\n",
    "acrUserName = jsonRegDetails['username']\n",
    "acrPassword = jsonRegDetails['passwords'][0]['value']"
   ]
  },
  {
   "cell_type": "markdown",
   "metadata": {},
   "source": [
    "Now save these information into the **.env** file for further use."
   ]
  },
  {
   "cell_type": "code",
   "execution_count": 5,
   "metadata": {},
   "outputs": [
    {
     "data": {
      "text/plain": [
       "(True, 'acrServer', 'mhlva01contreg.azurecr.io')"
      ]
     },
     "execution_count": 5,
     "metadata": {},
     "output_type": "execute_result"
    }
   ],
   "source": [
    "set_key(envPath, \"acrUserName\", acrUserName)\n",
    "set_key(envPath, \"acrPassword\", acrPassword)\n",
    "set_key(envPath, \"acrServer\", containerRegServiceName+\".azurecr.io\")"
   ]
  },
  {
   "cell_type": "markdown",
   "metadata": {},
   "source": [
    "### 2.4. Create Azure IoT Hub\n",
    "Below cell may give following error: \"IotHub name '<NAME\\>' is not available\" in case service already exist.\n"
   ]
  },
  {
   "cell_type": "code",
   "execution_count": null,
   "metadata": {},
   "outputs": [],
   "source": [
    "!az iot hub create --name $iotHubServiceName --resource-group $resourceGroupName --sku S1"
   ]
  },
  {
   "cell_type": "markdown",
   "metadata": {},
   "source": [
    "### 2.5. Create IoT Edge Device\n",
    "Create an IoT Edge device under the Azure IoT Hub service created in above cells. In the further steps, when we connect / match the physical device with this cloud based one through the device connection string, everything in this cloud one will be cloned into the physical device (all IoT Edge modules etc.)\n",
    "\n",
    "In this step we are also printing out and saving the IoT Edge device connection string which will be used in !!!further steps!!!."
   ]
  },
  {
   "cell_type": "code",
   "execution_count": 6,
   "metadata": {},
   "outputs": [
    {
     "name": "stdout",
     "output_type": "stream",
     "text": [
      "\u001b[0m- Installing ..."
     ]
    }
   ],
   "source": [
    "# Install iot hub CLI extensions\n",
    "!az extension add --name azure-cli-iot-ext"
   ]
  },
  {
   "cell_type": "code",
   "execution_count": 7,
   "metadata": {},
   "outputs": [],
   "source": [
    "%%bash --out iotEdgeDeviceConnString -s \"$resourceGroupName\" \"$iotHubServiceName\" \"$iotDeviceId\"\n",
    "# Create edge device if not already exists...\n",
    "az iot hub device-identity show --resource-group $1 --hub-name $2 --device-id $3 &> /dev/null\n",
    "\n",
    "if [ $? -ne 0 ]; then\n",
    "    az iot hub device-identity create --hub-name $2 --device-id $3 --edge-enabled &> /dev/null\n",
    "fi\n",
    "\n",
    "az iot hub device-identity show-connection-string --hub-name $2 --device-id $3 --output tsv"
   ]
  },
  {
   "cell_type": "code",
   "execution_count": 8,
   "metadata": {},
   "outputs": [
    {
     "name": "stdout",
     "output_type": "stream",
     "text": [
      "Azure IoT Hub Name: mhlva01iothub\n",
      "Azure IoT device id : mhlva01iotdevidlpr\n",
      "IoT Edge Device Connection String: HostName=mhlva01iothub.azure-devices.net;DeviceId=mhlva01iotdevidlpr;SharedAccessKey=OUg2mNO9lJN0kiCY1HU64HA1fZ+DPQS2kEh+2Ux7dcU=\n",
      "\n"
     ]
    },
    {
     "data": {
      "text/plain": [
       "(True,\n",
       " 'iotEdgeDeviceConnString',\n",
       " 'HostName=mhlva01iothub.azure-devices.net;DeviceId=mhlva01iotdevidlpr;SharedAccessKey=OUg2mNO9lJN0kiCY1HU64HA1fZ+DPQS2kEh+2Ux7dcU=')"
      ]
     },
     "execution_count": 8,
     "metadata": {},
     "output_type": "execute_result"
    }
   ],
   "source": [
    "# Print out IoT Edge Device deteails and store its connection string...\n",
    "print('Azure IoT Hub Name: {}'.format(iotHubServiceName))\n",
    "print('Azure IoT device id : {}'.format(iotDeviceId))\n",
    "print('IoT Edge Device Connection String: {}'.format(iotEdgeDeviceConnString))\n",
    "\n",
    "set_key(envPath, \"iotEdgeDeviceConnString\", iotEdgeDeviceConnString.rstrip())"
   ]
  },
  {
   "cell_type": "code",
   "execution_count": null,
   "metadata": {},
   "outputs": [],
   "source": []
  }
 ],
 "metadata": {
  "kernelspec": {
   "display_name": "Python 3",
   "language": "python",
   "name": "python3"
  },
  "language_info": {
   "codemirror_mode": {
    "name": "ipython",
    "version": 3
   },
   "file_extension": ".py",
   "mimetype": "text/x-python",
   "name": "python",
   "nbconvert_exporter": "python",
   "pygments_lexer": "ipython3",
   "version": "3.6.9"
  }
 },
 "nbformat": 4,
 "nbformat_minor": 2
}
