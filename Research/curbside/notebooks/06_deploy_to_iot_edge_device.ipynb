{
 "cells": [
  {
   "cell_type": "markdown",
   "metadata": {
    "collapsed": true
   },
   "source": [
    "## 6. Deploy LVA & ML Solution to IoT Edge Device\n",
    "Unless specified, all commands, cells below will be running on the development/deployment machine (not on the edge device)"
   ]
  },
  {
   "cell_type": "markdown",
   "metadata": {},
   "source": [
    "### 6.1. Setting up IoT Edge deployment target"
   ]
  },
  {
   "cell_type": "markdown",
   "metadata": {},
   "source": [
    "#### 6.1.1. Get global variables\n",
    "We will read the previously stored variables"
   ]
  },
  {
   "cell_type": "code",
   "execution_count": 1,
   "metadata": {},
   "outputs": [],
   "source": [
    "from dotenv import set_key, get_key, find_dotenv\n",
    "envPath = find_dotenv(raise_error_if_not_found=True)\n",
    "\n",
    "containerRegServiceName = get_key(envPath, \"containerRegServiceName\")\n",
    "containerImageName = get_key(envPath, \"containerImageName\")\n",
    "acrUserName = get_key(envPath, \"acrUserName\")\n",
    "acrPassword = get_key(envPath, \"acrPassword\")\n",
    "acrServer = get_key(envPath, \"acrServer\")\n",
    "resourceGroupName = get_key(envPath, \"resourceGroupName\")\n",
    "iotHubServiceName = get_key(envPath, \"iotHubServiceName\")\n",
    "iotDeviceId = get_key(envPath, \"iotDeviceId\")\n",
    "iotEdgeDeviceConnString = get_key(envPath, \"iotEdgeDeviceConnString\")\n",
    "localContainerRegServiceName = get_key(envPath, \"localContainerRegServiceName\")"
   ]
  },
  {
   "cell_type": "markdown",
   "metadata": {},
   "source": [
    "#### 6.1.2. Setup IoT Edge Device deployment variables"
   ]
  },
  {
   "cell_type": "code",
   "execution_count": 2,
   "metadata": {},
   "outputs": [],
   "source": [
    "# # Set your RTSP Camera source details here.\n",
    "# camAddress = \"<rtsp://YOUR_IP_CAM_RTSP_ADDRESS>\"\n",
    "# camUsername = \"<CAMERA_USERNAME>\"\n",
    "# camPassword = \"<CAMERA_PASSWORD>\"\n",
    "\n",
    "# # Set to the scoring URI of the AI Extensibility module\n",
    "# # DONT USE http://127.0.0.1 or http://localhost but use http://<MODULE_NAME>:<PORT_NUMBER>/<SCORING_PATH>\n",
    "# scoringURI = \"<SCORING_URI>\"\n",
    "\n",
    "# # Set the location of LVA module\n",
    "# lvaModuleAddress = \"<LVA_MODULE_ADDRESS>\"\n",
    "\n",
    "# # Set a local folder path that the debug output (analysed video frames, with overlayed analysis result, in jpeg file format) will be placed.\n",
    "# hostDebugFolder = \"<LOCAL_FOLDER_PATH_TO_DEBUG_OUTPUT>\"\n",
    "\n",
    "# # Set a value of how sensitive the motion should be. Pick one of three: low|medium|high\n",
    "# motionSensitivity = \"<MOTION_SENSITIVITY>\"\n",
    "\n",
    "# # Pick two frames per second from the camera stream and send only these two frames to the AI module... \n",
    "# # Set any number according to your Edge Device compute capability\n",
    "# camFPSFilterRate = \"<FPS_FILTER_RATE>\"\n",
    "\n",
    "# BELOW ARE SOME TEST VARIABLES WE USE. SET ABOVE VARIABLES WITH YOUR OWN VALUES AND DELETE ALL BELOW ASSIGNMENTS\n",
    "camAddress = \"rtsp://192.168.254.60/axis-media/media.amp\"\n",
    "# camAddress = \"rtsp://92.168.254.60\"\n",
    "camUsername = \"athena\"\n",
    "camPassword = \"Python3rocks\"\n",
    "scoringURI = \"http://\" + containerImageName + \":5001/score\"\n",
    "\n",
    "lvaModuleAddress = \"marketplace.azurecr.io/azure-media-services-preview/official/media_edge:1.3-linux-x64\"\n",
    "\n",
    "hostDebugFolder = \"/tmp/aix_debug_cam\"\n",
    "motionSensitivity = \"high\"\n",
    "camFPSFilterRate = \"2\"\n",
    "\n",
    "imageTag = \"v0.1.7\""
   ]
  },
  {
   "cell_type": "markdown",
   "metadata": {},
   "source": [
    "#### 6.1.3. Create IoT Edge Device deployment configuration file from the template with our own variables\n",
    "<span style=\"color:red; font-weight: bold; font-size:1.1em;\"> [!Important] </span>  \n",
    "> If you are in production, than uncomment the following line:  \n",
    ">> *#deploymentTemplate = deploymentTemplate.replace('AIX_CONTAINER_REGISTRY_NAME', containerRegServiceName)*  \n",
    ">> *#deploymentTemplate = deploymentTemplate.replace('AIX_CONTAINER_REGISTRY_FULL_NAME', containerRegServiceName+\".azurecr.io\")*  \n",
    ">\n",
    "> and comment the following line:  \n",
    ">\n",
    ">> *deploymentTemplate = deploymentTemplate.replace('AIX_CONTAINER_REGISTRY_NAME', localContainerRegServiceName)*  \n"
   ]
  },
  {
   "cell_type": "code",
   "execution_count": 5,
   "metadata": {},
   "outputs": [
    {
     "name": "stdout",
     "output_type": "stream",
     "text": [
      "{\n",
      "    \"modulesContent\": {\n",
      "        \"$edgeAgent\": {\n",
      "            \"properties.desired\": {\n",
      "                \"runtime\": {\n",
      "                    \"settings\": {\n",
      "                        \"minDockerVersion\": \"v1.25\",\n",
      "                        \"registryCredentials\": {\n",
      "                            \"mhregistry:55000\": {\n",
      "                                \"username\": \"mhlva01contreg\",\n",
      "                                \"password\":\"lPAd7o3eSDQs=QZbmX3ajI3v65dGlO/K\",\n",
      "                                \"address\":\"mhregistry:55000\"\n",
      "                            }                            \n",
      "                        }\n",
      "                    },\n",
      "                    \"type\": \"docker\"\n",
      "                },\n",
      "                \"schemaVersion\": \"1.0\",\n",
      "                \"systemModules\": {\n",
      "                    \"edgeAgent\": {\n",
      "                        \"settings\": {\n",
      "                            \"image\": \"mcr.microsoft.com/azureiotedge-agent:1.0\",\n",
      "                            \"createOptions\": \"\"\n",
      "                        },\n",
      "                        \"type\": \"docker\"\n",
      "                    },\n",
      "                    \"edgeHub\": {\n",
      "                        \"settings\": {\n",
      "                            \"image\": \"mcr.microsoft.com/azureiotedge-hub:1.0\",\n",
      "                            \"createOptions\": \"{\\\"User\\\":\\\"root\\\",\\\"HostConfig\\\":{\\\"PortBindings\\\":{\\\"5671/tcp\\\":[{\\\"HostPort\\\":\\\"5671\\\"}],\\\"8883/tcp\\\":[{\\\"HostPort\\\":\\\"8883\\\"}],\\\"443/tcp\\\":[{\\\"HostPort\\\":\\\"443\\\"}]}}}\"\n",
      "                        },\n",
      "                        \"type\": \"docker\",\n",
      "                        \"status\": \"running\",\n",
      "                        \"restartPolicy\": \"always\"\n",
      "                    }\n",
      "                },\n",
      "                \"modules\": {\n",
      "                    \"mediaEdge\": {\n",
      "                        \"version\": \"1.0\",\n",
      "                        \"type\": \"docker\",\n",
      "                        \"status\": \"running\",\n",
      "                        \"restartPolicy\": \"always\",\n",
      "                        \"settings\": {\n",
      "                            \"image\": \"marketplace.azurecr.io/azure-media-services-preview/official/media_edge:1.3-linux-x64\",\n",
      "                            \"createOptions\": \"{\\\"HostConfig\\\": {\\\"LogConfig\\\":{\\\"Config\\\": {\\\"max-size\\\": \\\"10m\\\",\\\"max-file\\\": \\\"10\\\"}}}}\"\n",
      "                        },\n",
      "                        \"env\": {\n",
      "                            \"EnableDiagnosticLogging\": {\n",
      "                                \"value\": \"True\"\n",
      "                            },\n",
      "                            \"IotEdgeArchiverSegmentManifestSeconds\": {\n",
      "                                \"value\": \"30\"\n",
      "                            }\n",
      "                        }\n",
      "                    },\n",
      "                    \"mhlva01aimodule\": {\n",
      "                        \"version\": \"1.0\",\n",
      "                        \"type\": \"docker\",\n",
      "                        \"status\": \"running\",\n",
      "                        \"restartPolicy\": \"always\",\n",
      "                        \"settings\": {\n",
      "                            \"image\": \"mhregistry:55000/mhlva01aimodule:v0.1.7\",\n",
      "                            \"createOptions\": \"{\\\"HostConfig\\\":{\\\"runtime\\\": \\\"nvidia\\\", \\\"PortBindings\\\":{\\\"5671/tcp\\\":[{\\\"HostPort\\\":\\\"5671\\\"}],\\\"8883/tcp\\\":[{\\\"HostPort\\\":\\\"8883\\\"}],\\\"443/tcp\\\":[{\\\"HostPort\\\":\\\"443\\\"}], \\\"5001/tcp\\\":[{\\\"HostPort\\\":\\\"5001\\\"}]}, \\\"DeviceCgroupRules\\\":[\\\"c 189:* rwm\\\"],\\\"Binds\\\":[\\\"/dev/bus/usb:/dev/bus/usb\\\",  \\\"/home/athena/lva_output/:/var/media/\\\", \\\"/tmp/aix_debug_cam:/debug_path\\\"],\\\"Privileged\\\":true, \\\"LogConfig\\\":{\\\"Config\\\": {\\\"max-size\\\": \\\"100m\\\",\\\"max-file\\\": \\\"10\\\"}}}}\"\n",
      "                        }\n",
      "                    }\n",
      "                }\n",
      "            }\n",
      "        },\n",
      "        \"$edgeHub\": {\n",
      "            \"properties.desired\": {\n",
      "                \"routes\": {\n",
      "                    \"route\": \"FROM /messages/* INTO $upstream\"\n",
      "                },\n",
      "                \"schemaVersion\": \"1.0\",\n",
      "                \"storeAndForwardConfiguration\": {\n",
      "                    \"timeToLiveSecs\": 7200\n",
      "                }\n",
      "            }\n",
      "        },\n",
      "        \"mediaEdge\": {\n",
      "            \"properties.desired\": {\n",
      "                \"mediaGraph\": \"{  \\\"sources\\\": [    {      \\\"$type\\\": \\\"Microsoft.Media.MediaGraphRtspSource\\\",      \\\"name\\\": \\\"rtspSource\\\",      \\\"url\\\": \\\"rtsp://192.168.254.60/axis-media/media.amp\\\",      \\\"credentials\\\": {        \\\"username\\\": \\\"athena\\\",        \\\"password\\\": \\\"Python3rocks\\\"      }    }  ],  \\\"processors\\\": [    {\\\"$type\\\": \\\"Microsoft.Media.MediaGraphMotionDetector\\\",\\\"name\\\": \\\"motionDetector\\\",\\\"inputs\\\": [\\\"rtspSource\\\"],\\\"sensitivity\\\": \\\"high\\\"},{      \\\"$type\\\": \\\"Microsoft.Media.MediaGraphFrameRateFilterProcessor\\\",      \\\"name\\\": \\\"frameRateFilter\\\",      \\\"inputs\\\": [        \\\"motionDetector\\\"      ],      \\\"maximumFps\\\": 2    },    {      \\\"$type\\\": \\\"Microsoft.Media.MediaGraphFrameInferenceHttpProxyProcessor\\\",      \\\"name\\\": \\\"frameInferenceProcessor\\\",      \\\"inputs\\\": [        \\\"frameRateFilter\\\"      ],      \\\"image\\\": {        \\\"format\\\": \\\"jpeg\\\"      },      \\\"endPoint\\\": {        \\\"$type\\\": \\\"Microsoft.Media.Endpoint\\\",        \\\"url\\\": \\\"http://mhlva01aimodule:5001/score\\\",        \\\"validationOptions\\\": {          \\\"IgnoreHostname\\\": false,          \\\"IgnoreSignature\\\": false        },        \\\"trustedCertificates\\\": {          \\\"$type\\\": \\\"Microsoft.Media.MediaGraphPemCertificateList\\\",          \\\"certificates\\\": [            \\\"cert1\\\",            \\\"cert2\\\"          ]        },        \\\"credentials\\\": {          \\\"$type\\\": \\\"Microsoft.Media.MediaGraphCredentialsCustomHttpHeader\\\",          \\\"headerName\\\": \\\"Authorization\\\",          \\\"headerValue\\\": \\\"Bearer...\\\"        }      }    }  ],  \\\"sinks\\\": [    {      \\\"$type\\\": \\\"Microsoft.Media.MediaGraphIoTHubSink\\\",      \\\"name\\\": \\\"iotHubSink\\\",      \\\"inputs\\\": [        \\\"frameInferenceProcessor\\\"      ],      \\\"queueName\\\": \\\"$iotSinkQueueName$\\\"    } ]}\"\n",
      "            }\n",
      "          },\n",
      "        \"mhlva01aimodule\": {\n",
      "            \"properties.desired\": {}\n",
      "        }\n",
      "    }\n",
      "}\n"
     ]
    }
   ],
   "source": [
    "# We have a deployment template file which needs to be updated with AI model's container registry address and credentials\n",
    "file = open(\"../src/alpr/LVADeploymentTemplate.json\")\n",
    "deploymentTemplate = file.read()\n",
    "\n",
    "# Update the variables\n",
    "#deploymentTemplate = deploymentTemplate.replace('AIX_CONTAINER_REGISTRY_NAME', containerRegServiceName)\n",
    "deploymentTemplate = deploymentTemplate.replace('AIX_CONTAINER_REGISTRY_FULL_NAME', localContainerRegServiceName)\n",
    "deploymentTemplate = deploymentTemplate.replace('AIX_CONTAINER_REGISTRY_NAME', localContainerRegServiceName)\n",
    "deploymentTemplate = deploymentTemplate.replace('AIX_CONTAINER_REGISTRY_USER_NAME', acrUserName)\n",
    "deploymentTemplate = deploymentTemplate.replace('AIX_CONTAINER_REGISTRY_PASSWORD', acrPassword)\n",
    "deploymentTemplate = deploymentTemplate.replace('AIX_CONTAINER_MODULE_NAME', containerImageName)\n",
    "deploymentTemplate = deploymentTemplate.replace('AIX_CONTAINER_MODULE_TAG', imageTag)\n",
    "deploymentTemplate = deploymentTemplate.replace('AIX_CONTAINER_SCORING_URI', scoringURI)\n",
    "\n",
    "deploymentTemplate = deploymentTemplate.replace('AIX_LVA_MODULE_ADDRESS', lvaModuleAddress)\n",
    "\n",
    "deploymentTemplate = deploymentTemplate.replace('AIX_IP_CAM_ADDRESS', camAddress)\n",
    "deploymentTemplate = deploymentTemplate.replace('AIX_IP_CAM_USER_NAME', camUsername)\n",
    "deploymentTemplate = deploymentTemplate.replace('AIX_IP_CAM_PASSWORD', camPassword)\n",
    "deploymentTemplate = deploymentTemplate.replace('AIX_IP_CAM_FPS_FILTER', camFPSFilterRate)\n",
    "\n",
    "deploymentTemplate = deploymentTemplate.replace('AIX_HOST_DEBUG_FOLDER', hostDebugFolder)\n",
    "\n",
    "deploymentTemplate = deploymentTemplate.replace('AIX_MOTION_SENSITIVITY', motionSensitivity)\n",
    "\n",
    "\n",
    "# Save the resulting deployment file on disk, so we can pass it to deployment API (currently not supporting direct Json string input)\n",
    "with open('../src/alpr/LVADeployment.json', 'wt', encoding='utf-8') as outputFile:\n",
    "    outputFile.write(deploymentTemplate)\n",
    "    \n",
    "print(deploymentTemplate)"
   ]
  },
  {
   "cell_type": "markdown",
   "metadata": {},
   "source": [
    "### 6.2. Deploy to IoT Edge Target\n",
    "In previous sections, we already set up our physical (or virtual on a VM) IoT Edge Device. Now we connect / match the physical device with the cloud based one on the IoTHub. Everything that we are pushing into IoTHub based edge device will will be cloned into the physical device (all IoT Edge modules, settings etc. defined in the manifest file)"
   ]
  },
  {
   "cell_type": "code",
   "execution_count": 130,
   "metadata": {},
   "outputs": [
    {
     "name": "stdout",
     "output_type": "stream",
     "text": [
      "\u001b[K - Searching ..\r",
      "\u001b[33mExtension 'azure-cli-iot-ext' is already installed.\u001b[0m\r\n",
      "\u001b[0m"
     ]
    }
   ],
   "source": [
    "# Install iot hub CLI extensions. To run below cells, we need iot edge extention\n",
    "!az extension add --name azure-cli-iot-ext"
   ]
  },
  {
   "cell_type": "markdown",
   "metadata": {},
   "source": [
    "<span style=\"color:red; font-weight: bold; font-size:1.1em;\"> [!Warning] </span>  \n",
    "Running below cell will reset and remove all previously deployed modules on the edge devices."
   ]
  },
  {
   "cell_type": "code",
   "execution_count": 131,
   "metadata": {},
   "outputs": [
    {
     "name": "stdout",
     "output_type": "stream",
     "text": [
      "mhlva01iotdevidlpr\n"
     ]
    }
   ],
   "source": [
    "print(iotDeviceId)"
   ]
  },
  {
   "cell_type": "code",
   "execution_count": 4,
   "metadata": {},
   "outputs": [
    {
     "name": "stdout",
     "output_type": "stream",
     "text": [
      "[\r\n",
      "  {\r\n",
      "    \"authentication\": {\r\n",
      "      \"symmetricKey\": {\r\n",
      "        \"primaryKey\": \"1lo/mEyA27JZ5ZAKJGH1m7k02M5LYjwkceX9DA3NLhk=\",\r\n",
      "        \"secondaryKey\": \"cUjEcrniD3b6PhwQmy8yDfql6cJWOOKVmksv4LVGDpg=\"\r\n",
      "      },\r\n",
      "      \"type\": \"sas\",\r\n",
      "      \"x509Thumbprint\": {\r\n",
      "        \"primaryThumbprint\": null,\r\n",
      "        \"secondaryThumbprint\": null\r\n",
      "      }\r\n",
      "    },\r\n",
      "    \"cloudToDeviceMessageCount\": 0,\r\n",
      "    \"connectionState\": \"Disconnected\",\r\n",
      "    \"connectionStateUpdatedTime\": \"0001-01-01T00:00:00+00:00\",\r\n",
      "    \"deviceId\": \"mhlva01iotdevidlpr\",\r\n",
      "    \"etag\": \"ODg2MDIyNTU2\",\r\n",
      "    \"generationId\": \"637231142544182398\",\r\n",
      "    \"lastActivityTime\": \"0001-01-01T00:00:00+00:00\",\r\n",
      "    \"managedBy\": null,\r\n",
      "    \"moduleId\": \"$edgeAgent\"\r\n",
      "  },\r\n",
      "  {\r\n",
      "    \"authentication\": {\r\n",
      "      \"symmetricKey\": {\r\n",
      "        \"primaryKey\": \"Ucjz4ffJesBWQkiU0cRJr+j9gPpnpqn1DzWRZhFoBzY=\",\r\n",
      "        \"secondaryKey\": \"AWRZCJTTbXNdKiynj3SoIcjxrrSArZHXfB+UcG7JC/A=\"\r\n",
      "      },\r\n",
      "      \"type\": \"sas\",\r\n",
      "      \"x509Thumbprint\": {\r\n",
      "        \"primaryThumbprint\": null,\r\n",
      "        \"secondaryThumbprint\": null\r\n",
      "      }\r\n",
      "    },\r\n",
      "    \"cloudToDeviceMessageCount\": 0,\r\n",
      "    \"connectionState\": \"Connected\",\r\n",
      "    \"connectionStateUpdatedTime\": \"2020-04-27T01:52:14.952360+00:00\",\r\n",
      "    \"deviceId\": \"mhlva01iotdevidlpr\",\r\n",
      "    \"etag\": \"ODg2MDIyNzAz\",\r\n",
      "    \"generationId\": \"637231142544182398\",\r\n",
      "    \"lastActivityTime\": \"0001-01-01T00:00:00+00:00\",\r\n",
      "    \"managedBy\": \"iotEdge\",\r\n",
      "    \"moduleId\": \"$edgeHub\"\r\n",
      "  }\r\n",
      "]\r\n",
      "\u001b[0m"
     ]
    }
   ],
   "source": [
    "# First Reset the edge device\n",
    "!az iot edge set-modules --device-id $iotDeviceId --hub-name $iotHubServiceName --content \"../src/alpr/LVAResetDeviceTemplate.json\""
   ]
  },
  {
   "cell_type": "markdown",
   "metadata": {},
   "source": [
    "<span style=\"color:red; font-weight: bold; font-size:1.1em;\"> [!Warning] </span>  \n",
    "Running below cell will deploy all modules (our AI extensibility module that we created, lva and all required ones) and settings to the edge devices."
   ]
  },
  {
   "cell_type": "code",
   "execution_count": 6,
   "metadata": {},
   "outputs": [
    {
     "name": "stdout",
     "output_type": "stream",
     "text": [
      "[\r\n",
      "  {\r\n",
      "    \"authentication\": {\r\n",
      "      \"symmetricKey\": {\r\n",
      "        \"primaryKey\": \"1lo/mEyA27JZ5ZAKJGH1m7k02M5LYjwkceX9DA3NLhk=\",\r\n",
      "        \"secondaryKey\": \"cUjEcrniD3b6PhwQmy8yDfql6cJWOOKVmksv4LVGDpg=\"\r\n",
      "      },\r\n",
      "      \"type\": \"sas\",\r\n",
      "      \"x509Thumbprint\": {\r\n",
      "        \"primaryThumbprint\": null,\r\n",
      "        \"secondaryThumbprint\": null\r\n",
      "      }\r\n",
      "    },\r\n",
      "    \"cloudToDeviceMessageCount\": 0,\r\n",
      "    \"connectionState\": \"Disconnected\",\r\n",
      "    \"connectionStateUpdatedTime\": \"0001-01-01T00:00:00+00:00\",\r\n",
      "    \"deviceId\": \"mhlva01iotdevidlpr\",\r\n",
      "    \"etag\": \"ODg2MDIyNTU2\",\r\n",
      "    \"generationId\": \"637231142544182398\",\r\n",
      "    \"lastActivityTime\": \"0001-01-01T00:00:00+00:00\",\r\n",
      "    \"managedBy\": null,\r\n",
      "    \"moduleId\": \"$edgeAgent\"\r\n",
      "  },\r\n",
      "  {\r\n",
      "    \"authentication\": {\r\n",
      "      \"symmetricKey\": {\r\n",
      "        \"primaryKey\": \"Ucjz4ffJesBWQkiU0cRJr+j9gPpnpqn1DzWRZhFoBzY=\",\r\n",
      "        \"secondaryKey\": \"AWRZCJTTbXNdKiynj3SoIcjxrrSArZHXfB+UcG7JC/A=\"\r\n",
      "      },\r\n",
      "      \"type\": \"sas\",\r\n",
      "      \"x509Thumbprint\": {\r\n",
      "        \"primaryThumbprint\": null,\r\n",
      "        \"secondaryThumbprint\": null\r\n",
      "      }\r\n",
      "    },\r\n",
      "    \"cloudToDeviceMessageCount\": 0,\r\n",
      "    \"connectionState\": \"Disconnected\",\r\n",
      "    \"connectionStateUpdatedTime\": \"2020-04-27T17:56:26.802341+00:00\",\r\n",
      "    \"deviceId\": \"mhlva01iotdevidlpr\",\r\n",
      "    \"etag\": \"ODg2MDIyNzA1\",\r\n",
      "    \"generationId\": \"637231142544182398\",\r\n",
      "    \"lastActivityTime\": \"0001-01-01T00:00:00+00:00\",\r\n",
      "    \"managedBy\": \"iotEdge\",\r\n",
      "    \"moduleId\": \"$edgeHub\"\r\n",
      "  },\r\n",
      "  {\r\n",
      "    \"authentication\": {\r\n",
      "      \"symmetricKey\": {\r\n",
      "        \"primaryKey\": \"tZAeoXDpJLGuV1ywKGmjnBZrUg4OLjADZL/GIESx68Y=\",\r\n",
      "        \"secondaryKey\": \"MFFzZXuqZNxm4cxJOGuQ5pTRadmper1VuI2poPdy4Gc=\"\r\n",
      "      },\r\n",
      "      \"type\": \"sas\",\r\n",
      "      \"x509Thumbprint\": {\r\n",
      "        \"primaryThumbprint\": null,\r\n",
      "        \"secondaryThumbprint\": null\r\n",
      "      }\r\n",
      "    },\r\n",
      "    \"cloudToDeviceMessageCount\": 0,\r\n",
      "    \"connectionState\": \"Disconnected\",\r\n",
      "    \"connectionStateUpdatedTime\": \"0001-01-01T00:00:00+00:00\",\r\n",
      "    \"deviceId\": \"mhlva01iotdevidlpr\",\r\n",
      "    \"etag\": \"MTA1NTM5ODE5MQ==\",\r\n",
      "    \"generationId\": \"637236072576878133\",\r\n",
      "    \"lastActivityTime\": \"0001-01-01T00:00:00+00:00\",\r\n",
      "    \"managedBy\": \"iotEdge\",\r\n",
      "    \"moduleId\": \"mediaEdge\"\r\n",
      "  },\r\n",
      "  {\r\n",
      "    \"authentication\": {\r\n",
      "      \"symmetricKey\": {\r\n",
      "        \"primaryKey\": \"Ig+OVcTIrAbHRlO/SDYkiO4cabqLMnHdN/pak2NtIyo=\",\r\n",
      "        \"secondaryKey\": \"fRVKafYxmWVlgqT4ZdiJ7EPCJUJeZSN2+qEbQNTW5UE=\"\r\n",
      "      },\r\n",
      "      \"type\": \"sas\",\r\n",
      "      \"x509Thumbprint\": {\r\n",
      "        \"primaryThumbprint\": null,\r\n",
      "        \"secondaryThumbprint\": null\r\n",
      "      }\r\n",
      "    },\r\n",
      "    \"cloudToDeviceMessageCount\": 0,\r\n",
      "    \"connectionState\": \"Disconnected\",\r\n",
      "    \"connectionStateUpdatedTime\": \"0001-01-01T00:00:00+00:00\",\r\n",
      "    \"deviceId\": \"mhlva01iotdevidlpr\",\r\n",
      "    \"etag\": \"MTkxMjM0Mzg2\",\r\n",
      "    \"generationId\": \"637236072577190524\",\r\n",
      "    \"lastActivityTime\": \"0001-01-01T00:00:00+00:00\",\r\n",
      "    \"managedBy\": \"iotEdge\",\r\n",
      "    \"moduleId\": \"mhlva01aimodule\"\r\n",
      "  }\r\n",
      "]\r\n",
      "\u001b[0m"
     ]
    }
   ],
   "source": [
    "# Push the deployment JSON to the IOT Hub\n",
    "!az iot edge set-modules --device-id $iotDeviceId --hub-name $iotHubServiceName --content \"../src/alpr/LVADeployment.json\""
   ]
  },
  {
   "cell_type": "markdown",
   "metadata": {},
   "source": [
    "<span style=\"color:red; font-weight: bold; font-size:1.1em;\"> [!Important] </span>  \n",
    "\n",
    "Once you run the above cell, or make new manifest deployment, run the following shell command on the **IoT Edge Device** to restart the IoT Edge Runtime\n",
    "```bash\n",
    "sudo systemctl restart iotedge\n",
    "```"
   ]
  },
  {
   "cell_type": "markdown",
   "metadata": {},
   "source": [
    "<span style=\"color:red; font-weight: bold; font-size:1.1em;\"> [!Important] </span>  \n",
    "On the IoT Edge device, run the following shell command to see if all required modules pulled and running. Depending on your Internet connection speed, it may take some time to pull images into IoT Edge device.\n",
    "\n",
    "```shell\n",
    "sudo iotedge list\n",
    "```\n",
    "\n",
    "Running above command, you should see something similar to below 4 lines, telling that 4 IoTEdge modules (edgeAgent, edgeHub, mediaEdge and mkov01aimodule) pulled, up and running...\n",
    "\n",
    "```\n",
    "NAME             STATUS           DESCRIPTION      CONFIG\n",
    "edgeAgent        running          Up 4 minutes     mcr.microsoft.com/azureiotedge-agent:1.0\n",
    "mkov01aimodule   running          Up 4 minutes     mkregistry:55000/mkov01aimodule:latest\n",
    "mediaEdge        running          Up 4 minutes     marketplace.azurecr.io/azure-media-services-preview/official/media_edge:1.2-linux-x64\n",
    "edgeHub          running          Up 4 minutes     mcr.microsoft.com/azureiotedge-hub:1.0\n",
    "```"
   ]
  },
  {
   "cell_type": "markdown",
   "metadata": {},
   "source": [
    "<span style=\"color:red; font-weight: bold; font-size:1.1em;\"> [!Important] </span>  \n",
    "\n",
    "wait 1-2 minute to have IoT Edge Runtime up and running in stable mode. If things not working well, use the following shell command to restart it:\n",
    "\n",
    "```shell\n",
    "sudo iotedge restart mkov01aimodule\n",
    "```\n",
    "\n",
    "After all, you should see inference results going into logs and IoTHub which are explained in next section, section 9. If you dont observe any message flow or if you think that the pipeline is not working, you should try restarting just the LVA module:\n",
    "\n",
    "```shell\n",
    "sudo iotedge restart edgeMedia\n",
    "```"
   ]
  },
  {
   "cell_type": "code",
   "execution_count": null,
   "metadata": {},
   "outputs": [],
   "source": []
  }
 ],
 "metadata": {
  "kernelspec": {
   "display_name": "Python 3",
   "language": "python",
   "name": "python3"
  },
  "language_info": {
   "codemirror_mode": {
    "name": "ipython",
    "version": 3
   },
   "file_extension": ".py",
   "mimetype": "text/x-python",
   "name": "python",
   "nbconvert_exporter": "python",
   "pygments_lexer": "ipython3",
   "version": "3.6.9"
  }
 },
 "nbformat": 4,
 "nbformat_minor": 2
}
