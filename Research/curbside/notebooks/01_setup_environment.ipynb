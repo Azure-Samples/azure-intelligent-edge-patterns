{
 "cells": [
  {
   "cell_type": "markdown",
   "metadata": {
    "collapsed": true
   },
   "source": [
    "## 1. Setting up Deployment/Test Environment\n"
   ]
  },
  {
   "cell_type": "markdown",
   "metadata": {},
   "source": [
    "### 1.1. Setup global variables to be used in the further steps\n",
    "\n",
    "Please change the resourceGroupName variable to something to a globally unique value. Keep the length as short as ~5 character length.\n",
    "\n",
    "We recommend that you keep the resource group name less than 5 characters and all in small letters, because: we assign auto generated names for all other resources (i.e. storage account, key vault etc.) to have their name prefixed with resource group name and suffixed with resource type. Some resources have name length limitation and naming convention (like all should be lower case and no specific symbols...). USing invalid characters etc. may cause a failure. So explore the outputs of each cell after running them to see if there is error or successful run."
   ]
  },
  {
   "cell_type": "code",
   "execution_count": 1,
   "metadata": {},
   "outputs": [],
   "source": [
    "# Mandatory settings section\n",
    "# ---------------------------\n",
    "\n",
    "# Define the ID of your Azure subscription to be used\n",
    "# You may learn your subscription ID at https://account.azure.com/subscriptions\n",
    "azureSubsctiptionId = \"35c2594a-23da-4fce-b59c-f6fb9513eeeb\"\n",
    "\n",
    "# Define Datacenter location of the azure services to be created.\n",
    "# To get the list of possible resource locations use the following commands on an Azure CLI enabled terminal window:\n",
    "#          az account list-locations\n",
    "resourceLocation = \"westus2\"  # set any other location that is close to you i.e. \"westus2\", \"southcentralus\"\n",
    "\n",
    "# Name of the resource group that will contain all Azure services to be created\n",
    "# Resource group name will be appended as a prefix to other resource names, so please keep it to be globally unique and less than 6 characters\n",
    "resourceGroupName = \"mhlva01\" # i.e. \"mk001\"\n",
    "\n",
    "\n",
    "\n",
    "\n",
    "# Optional settings section\n",
    "# ---------------------------\n",
    "\n",
    "# Azure Container Registry Service to host your docker container images\n",
    "containerRegServiceName = resourceGroupName+'contreg'\n",
    "\n",
    "# Local Container Registry Service name\n",
    "localContainerRegServiceName = \"mhregistry:55000\"\n",
    "\n",
    "# Azure IoT Hub Service\n",
    "iotHubServiceName = resourceGroupName+'iothub'\n",
    "\n",
    "# Name of the container image for ml solution\n",
    "containerImageName = resourceGroupName+'aimodule'\n",
    "\n",
    "# Define a folder name that you want to host all your ml solution files\n",
    "mlSolutionPath = \"../src/alpr/lva_ai_solution\"\n",
    "\n",
    "# Define a unique IoT Edge device ID\n",
    "iotDeviceId = resourceGroupName+'iotdevidlpr'\n",
    "\n",
    "storageConnStr = \"DefaultEndpointsProtocol=https;AccountName=mhlva01store;AccountKey=rlGmLje1O8H3TS8vH4+r0eCEEgYIFf4fzl0LuRpE5ueSag9uMR+vZ3S85S2vcysLWMscTLvt4IlL+dkE6DT1CQ==;EndpointSuffix=core.windows.net\""
   ]
  },
  {
   "cell_type": "markdown",
   "metadata": {},
   "source": [
    "### 1.2. Check Azure CLI version\n",
    "Azure CLI is required to run this sample. Check if Azure CLI installed.  \n",
    "If Azure CLI is not installed, please follow the installation instructions shown here:  \n",
    "https://docs.microsoft.com/en-us/cli/azure/install-azure-cli-apt?view=azure-cli-latest"
   ]
  },
  {
   "cell_type": "code",
   "execution_count": 2,
   "metadata": {},
   "outputs": [
    {
     "name": "stdout",
     "output_type": "stream",
     "text": [
      "azure-cli                          2.4.0\r\n",
      "\r\n",
      "command-modules-nspkg              2.0.3\r\n",
      "core                               2.4.0\r\n",
      "nspkg                              3.0.4\r\n",
      "telemetry                          1.0.4\r\n",
      "\r\n",
      "Python location '/home/athena/lib/azure-cli/bin/python'\r\n",
      "Extensions directory '/home/athena/.azure/cliextensions'\r\n",
      "\r\n",
      "Python (Linux) 3.6.9 (default, Apr 18 2020, 01:56:04) \r\n",
      "[GCC 8.4.0]\r\n",
      "\r\n",
      "Legal docs and information: aka.ms/AzureCliLegal\r\n",
      "\r\n",
      "\r\n",
      "Your CLI is up-to-date.\r\n",
      "\r\n",
      "\u001b[33m\u001b[1mPlease let us know how we are doing: \u001b[34mhttps://aka.ms/clihats\u001b[0m\r\n",
      "\u001b[33m\u001b[1mand let us know if you're interested in trying out our newest features: \u001b[34mhttps://aka.ms/CLIUXstudy\u001b[0m\r\n",
      "\u001b[0m"
     ]
    }
   ],
   "source": [
    "!az --version"
   ]
  },
  {
   "cell_type": "markdown",
   "metadata": {},
   "source": [
    "### 1.3. Login to Azure\n",
    "<span style=\"color:red; font-weight: bold; font-size:1.5em;\"> [!Important] </span>  \n",
    "Run the following command and <span style=\"color:red; font-weight: bold; font-size:1.1em;\"> follow the instructions </span> in the corresponding output cell. You should enter the authentication code to let this notebook kernel be able to access Azure resources. You can run \"az logout\" command or stop the kernel to logout."
   ]
  },
  {
   "cell_type": "code",
   "execution_count": 3,
   "metadata": {},
   "outputs": [],
   "source": [
    "%%bash --out output\n",
    "az account show &> /dev/null\n",
    "if [ \"$?\" != \"0\" ]; then echo 'login'; fi"
   ]
  },
  {
   "cell_type": "code",
   "execution_count": 4,
   "metadata": {},
   "outputs": [
    {
     "name": "stdout",
     "output_type": "stream",
     "text": [
      "You must sign in to Azure. Please follow the instructions below.\n",
      "\u001b[33mYou have logged in. Now let us find all the subscriptions to which you have access...\u001b[0m\n",
      "\u001b[33mFailed to authenticate '{'additional_properties': {}, 'id': '/tenants/ec64c433-1ee8-4dbd-837a-39f56c7cdcea', 'tenant_id': 'ec64c433-1ee8-4dbd-837a-39f56c7cdcea', 'tenant_category': <TenantCategory.home: 'Home'>, 'country': None, 'country_code': 'CH', 'display_name': None, 'domains': ['virtualworldmail.buhlergroup.com', 'virtualworld.buhlergroup.com', 'buhlergroup.com', 'ptbuhler.com', 'digitalsense.buhlergroup.com', 'app.buhlergroup.com', 'sft-uzwil.ch', 'buhlergroup.onmicrosoft.com', 'b-point.buhlergroup.com', 'sp01.buhlergroup.com', 'buhlergroup.mail.onmicrosoft.com', 'buhler.id', 'bepex.hosokawa.com', 'buhler-barth.com', 'b-point.buhlertest.ch', 'st01.buhlertest.ch', 'webmaster.buhlergroup.com', 'buhlergroup.io', 'buhlerinsights.buhlergroup.com', 'healthbalancegroup.ch', 'buhlertest.ch', 'bindler.com', 'sanmak.com.br', 'sortex.com', 'bcha.cn', 'frisse.de', 'bwux.cn', 'buhler.hu', 'brasserie-allegra.ch', 'buhler.co.jp', 'buhler.co.kr', 'buhler.com.sg', 'buhler-immo.ch', 'buhler-immo.com', 'healthbalance.com', 'leyboldoptics.com', 'persmatrijs.nl', 'schmidt-seeger.com', 'tabasco-bar.ch', 'tijdhof.com.tr', 'uzeliving.ch', 'buhler.ch', 'uze.ch', 'buhlersortex.com', 'healthbalance.ch', 'vitalquelle.ch', 'buhlerprince.com', 'buhler-scherler.com', 'cddp.co.uk', 'schaefli-uzwil.ch', 'sms-sg.ch', 'uze-ag.ch', 'aeroglide.com', 'mybuhler.com', 'uze-living.ch', 'hotel-uzwil.ch', 'buhlergroup-agent.com', 'buhler-ltd.com', 'nwd.buhlergroup.com', 'alm.buhlergroup.com', 'bukl.buhlergroup.com']}' due to error 'Get Token request returned http error: 400 and server response: {\"error\":\"interaction_required\",\"error_description\":\"AADSTS50079: Due to a configuration change made by your administrator, or because you moved to a new location, you must enroll in multi-factor authentication to access '797f4846-ba00-4fd7-ba43-dac1f8f63013'.\\r\\nTrace ID: cec8e4e7-7ad1-4895-8a33-df44a3a32600\\r\\nCorrelation ID: fd4dc361-d141-4dc4-8735-14825c4d9e6b\\r\\nTimestamp: 2020-04-22 00:59:04Z\",\"error_codes\":[50079],\"timestamp\":\"2020-04-22 00:59:04Z\",\"trace_id\":\"cec8e4e7-7ad1-4895-8a33-df44a3a32600\",\"correlation_id\":\"fd4dc361-d141-4dc4-8735-14825c4d9e6b\",\"error_uri\":\"https://login.microsoftonline.com/error?code=50079\",\"suberror\":\"basic_action\"}'\u001b[0m\n",
      "\u001b[33mThe following tenants don't contain accessible subscriptions. Use 'az login --allow-no-subscriptions' to have tenant level access.\u001b[0m\n",
      "\u001b[33m0e1609b0-5e7f-4722-8611-c7f3067cebdc\u001b[0m\n",
      "\u001b[33m7517bc42-bcf8-4916-a677-b5753051f846\u001b[0m\n",
      "\u001b[33mf391105a-ad19-4c18-8bce-b08c4b953855\u001b[0m\n",
      "\u001b[33mThe following tenants require Multi-Factor Authentication (MFA). Use 'az login --tenant TENANT_ID' to explicitly login to a tenant.\u001b[0m\n",
      "\u001b[33m411f9c98-6904-4ffb-902e-0920b8284c36\u001b[0m\n",
      "\u001b[0m"
     ]
    }
   ],
   "source": [
    "if (output != ''):\n",
    "    print('You must sign in to Azure. Please follow the instructions below.')\n",
    "    !az login -o None\n",
    "    output = ''\n",
    "else:\n",
    "    print('There is an active Azure login session exist.')"
   ]
  },
  {
   "cell_type": "markdown",
   "metadata": {},
   "source": [
    "### 1.4. Set active Azure Subscription\n",
    "You may have more than one subscription and we will set the one you specified in **azureSubsctiptionId** as default one to be used."
   ]
  },
  {
   "cell_type": "code",
   "execution_count": 5,
   "metadata": {},
   "outputs": [
    {
     "name": "stdout",
     "output_type": "stream",
     "text": [
      "\u001b[0m"
     ]
    }
   ],
   "source": [
    "!az account set --subscription $azureSubsctiptionId"
   ]
  },
  {
   "cell_type": "markdown",
   "metadata": {},
   "source": [
    "### 1.5. Install dotenv python library to share global variables among code files\n",
    "dot-env library reads the key-value pair from .env file and adds them to environment variable. It is great for managing app settings during development and in production using 12-factor principles.  \n",
    "\n",
    "<span style=\"color:red; font-weight: bold; font-size:1.5em;\"> [!Important] </span>  \n",
    "Depending on your installation you may need to switch between pip and pip3. See cell output below for possible error and make appropriate switch."
   ]
  },
  {
   "cell_type": "code",
   "execution_count": 6,
   "metadata": {},
   "outputs": [
    {
     "name": "stdout",
     "output_type": "stream",
     "text": [
      "dotenv package not found. Installing...\n",
      "Collecting python-dotenv\n",
      "  Downloading https://files.pythonhosted.org/packages/cb/2a/07f87440444fdf2c5870a710b6770d766a1c7df9c827b0c90e807f1fb4c5/python_dotenv-0.13.0-py2.py3-none-any.whl\n",
      "Installing collected packages: python-dotenv\n",
      "Successfully installed python-dotenv-0.13.0\n"
     ]
    }
   ],
   "source": [
    "%%bash\n",
    "if python3 -c 'import pkgutil; exit(not pkgutil.find_loader(\"dotenv\"))';\n",
    "then\n",
    "\techo \"dotenv package found. Skipping re-installation...\";\n",
    "else\n",
    "\techo \"dotenv package not found. Installing...\";\n",
    "    pip3 install python-dotenv;\n",
    "fi"
   ]
  },
  {
   "cell_type": "markdown",
   "metadata": {},
   "source": [
    "<span style=\"color:red; font-weight: bold; font-size:1.5em;\"> [!Important] </span>  \n",
    "You may have more than one Python3 installation (i.e. Python 3.6, Python 3.8 etc.), so pip3 command may install libraries under specific version which may cause the below cells execution to fail. Be sure that your Jupyter notebook running in the right Pyhon kernel version.  \n",
    "\n",
    "<img src=\"../doc_imgs/img_03_025.jpg\" width=300/>  "
   ]
  },
  {
   "cell_type": "markdown",
   "metadata": {},
   "source": [
    "### 1.6. Save global variables in .env file\n",
    "Check if .env file already exist. If not, create a new one.  \n",
    ".env file is the place we will store our variables to share with other code books of this sample.  \n",
    "if you want more details about dotenv python package please refer: https://pypi.org/project/python-dotenv/"
   ]
  },
  {
   "cell_type": "code",
   "execution_count": 2,
   "metadata": {},
   "outputs": [
    {
     "name": "stdout",
     "output_type": "stream",
     "text": [
      ".env file path: /home/athena/Documents/bin/github/curbside/notebooks/.env\n"
     ]
    }
   ],
   "source": [
    "from pathlib import Path\n",
    "from dotenv import set_key, get_key, find_dotenv\n",
    "\n",
    "envPath = find_dotenv()\n",
    "if envPath==\"\":\n",
    "    Path(\".env\").touch()\n",
    "    envPath = find_dotenv()\n",
    "    \n",
    "print(\".env file path: {0}\".format(envPath))"
   ]
  },
  {
   "cell_type": "code",
   "execution_count": 3,
   "metadata": {},
   "outputs": [
    {
     "data": {
      "text/plain": [
       "(True,\n",
       " 'storageConnStr',\n",
       " 'DefaultEndpointsProtocol=https;AccountName=mhlva01store;AccountKey=rlGmLje1O8H3TS8vH4+r0eCEEgYIFf4fzl0LuRpE5ueSag9uMR+vZ3S85S2vcysLWMscTLvt4IlL+dkE6DT1CQ==;EndpointSuffix=core.windows.net')"
      ]
     },
     "execution_count": 3,
     "metadata": {},
     "output_type": "execute_result"
    }
   ],
   "source": [
    "set_key(envPath, \"azureSubsctiptionId\", azureSubsctiptionId)\n",
    "set_key(envPath, \"resourceLocation\", resourceLocation)\n",
    "set_key(envPath, \"resourceGroupName\", resourceGroupName)\n",
    "set_key(envPath, \"containerRegServiceName\", containerRegServiceName)\n",
    "set_key(envPath, \"iotHubServiceName\", iotHubServiceName)\n",
    "set_key(envPath, \"mlSolutionPath\", mlSolutionPath)\n",
    "set_key(envPath, \"containerImageName\", containerImageName)\n",
    "set_key(envPath, \"iotDeviceId\", iotDeviceId)\n",
    "set_key(envPath, \"localContainerRegServiceName\", localContainerRegServiceName)\n",
    "set_key(envPath, \"storageConnStr\", storageConnStr)"
   ]
  },
  {
   "cell_type": "code",
   "execution_count": null,
   "metadata": {},
   "outputs": [],
   "source": []
  }
 ],
 "metadata": {
  "kernelspec": {
   "display_name": "Python 3",
   "language": "python",
   "name": "python3"
  },
  "language_info": {
   "codemirror_mode": {
    "name": "ipython",
    "version": 3
   },
   "file_extension": ".py",
   "mimetype": "text/x-python",
   "name": "python",
   "nbconvert_exporter": "python",
   "pygments_lexer": "ipython3",
   "version": "3.6.9"
  }
 },
 "nbformat": 4,
 "nbformat_minor": 2
}
