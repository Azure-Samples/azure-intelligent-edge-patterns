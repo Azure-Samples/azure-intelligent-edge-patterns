{
 "cells": [
  {
   "cell_type": "markdown",
   "metadata": {
    "collapsed": true
   },
   "source": [
    "## 1. Setting up Deployment/Test Environment\n"
   ]
  },
  {
   "cell_type": "markdown",
   "metadata": {},
   "source": [
    "### 1.1. Setup global variables to be used in the further steps\n",
    "\n",
    "Please change the resourceGroupName variable to something to a globally unique value. Keep the length as short as ~5 character length.\n",
    "\n",
    "We recommend that you keep the resource group name less than 5 characters and all in small letters, because: we assign auto generated names for all other resources (i.e. storage account, key vault etc.) to have their name prefixed with resource group name and suffixed with resource type. Some resources have name length limitation and naming convention (like all should be lower case and no specific symbols...). USing invalid characters etc. may cause a failure. So explore the outputs of each cell after running them to see if there is error or successful run."
   ]
  },
  {
   "cell_type": "code",
   "execution_count": 18,
   "metadata": {},
   "outputs": [],
   "source": [
    "# Mandatory settings section\n",
    "# ---------------------------\n",
    "\n",
    "# Define the ID of your Azure subscription to be used\n",
    "# You may learn your subscription ID at https://account.azure.com/subscriptions\n",
    "azureSubsctiptionId = \"8eb87630-972c-4c36-a270-f330e6c063df\"\n",
    "\n",
    "# Define Datacenter location of the azure services to be created.\n",
    "# To get the list of possible resource locations use the following commands on an Azure CLI enabled terminal window:\n",
    "#          az account list-locations\n",
    "resourceLocation = \"westus2\"  # set any other location that is close to you i.e. \"westus2\", \"southcentralus\"\n",
    "\n",
    "# Name of the resource group that will contain all Azure services to be created\n",
    "# Resource group name will be appended as a prefix to other resource names, so please keep it to be globally unique and less than 6 characters\n",
    "resourceGroupName = \"teamlvarg\" # i.e. \"mk001\"\n",
    "\n",
    "\n",
    "\n",
    "\n",
    "# Optional settings section\n",
    "# ---------------------------\n",
    "\n",
    "# Azure Container Registry Service to host your docker container images\n",
    "containerRegServiceName = 'teamlvacontainerregistry'\n",
    "\n",
    "# Local Container Registry Service name\n",
    "localContainerRegServiceName = \"teamlvacontainerregistry/2\"\n",
    "\n",
    "# Azure IoT Hub Service\n",
    "iotHubServiceName = 'teamlvahub'\n",
    "\n",
    "# Name of the container image for ml solution\n",
    "containerImageName = resourceGroupName+'aimodule'\n",
    "\n",
    "# Define a folder name that you want to host all your ml solution files\n",
    "mlSolutionPath = \"../src/alpr/lva_ai_solution\"\n",
    "\n",
    "# Define a unique IoT Edge device ID\n",
    "iotDeviceId = 'teamlvadbe-edge'\n",
    "\n",
    "storageConnStr = \"DefaultEndpointsProtocol=https;AccountName=teamlvastorage;AccountKey=ajccjFTp4ix3C0nNDfn2h2LpNXQPAJLS6A4bb9PUIVqH7Zq7sEwG/SBLhEdd394XkOQoqs4UFDHzd56h9gnGtA==;EndpointSuffix=core.windows.net\""
   ]
  },
  {
   "cell_type": "markdown",
   "metadata": {},
   "source": [
    "### 1.2. Check Azure CLI version\n",
    "Azure CLI is required to run this sample. Check if Azure CLI installed.  \n",
    "If Azure CLI is not installed, please follow the installation instructions shown here:  \n",
    "https://docs.microsoft.com/en-us/cli/azure/install-azure-cli-apt?view=azure-cli-latest"
   ]
  },
  {
   "cell_type": "code",
   "execution_count": 19,
   "metadata": {},
   "outputs": [
    {
     "name": "stdout",
     "output_type": "stream",
     "text": [
      "azure-cli                         2.0.58 *\r\n",
      "\r\n",
      "acr                                2.2.0 *\r\n",
      "acs                               2.3.17 *\r\n",
      "advisor                            2.0.0 *\r\n",
      "ams                                0.4.1 *\r\n",
      "appservice                        0.2.13 *\r\n",
      "backup                             1.2.1 *\r\n",
      "batch                              3.4.1 *\r\n",
      "batchai                            0.4.7 *\r\n",
      "billing                            0.2.0 *\r\n",
      "botservice                         0.1.6 *\r\n",
      "cdn                                0.2.0 *\r\n",
      "cloud                              2.1.0 *\r\n",
      "cognitiveservices                  0.2.4 *\r\n",
      "command-modules-nspkg               2.0.2 *\r\n",
      "configure                         2.0.20 *\r\n",
      "consumption                        0.4.2 *\r\n",
      "container                         0.3.13 *\r\n",
      "core                              2.0.58 *\r\n",
      "cosmosdb                           0.2.7 *\r\n",
      "dla                                0.2.4 *\r\n",
      "dls                                0.1.8 *\r\n",
      "dms                                0.1.2 *\r\n",
      "eventgrid                          0.2.1 *\r\n",
      "eventhubs                          0.3.3 *\r\n",
      "extension                          0.2.3 *\r\n",
      "feedback                           2.1.4 *\r\n",
      "find                              0.2.13 *\r\n",
      "hdinsight                          0.3.0 *\r\n",
      "interactive                        0.4.1 *\r\n",
      "iot                                0.3.6 *\r\n",
      "iotcentral                         0.1.6 *\r\n",
      "keyvault                          2.2.11 *\r\n",
      "kusto                              0.1.0 *\r\n",
      "lab                                0.1.5 *\r\n",
      "maps                               0.3.3 *\r\n",
      "monitor                           0.2.10 *\r\n",
      "network                            2.3.2 *\r\n",
      "nspkg                              3.0.3 *\r\n",
      "policyinsights                     0.1.1 *\r\n",
      "profile                            2.1.3 *\r\n",
      "rdbms                              0.3.7 *\r\n",
      "redis                              0.4.0 *\r\n",
      "relay                              0.1.3 *\r\n",
      "reservations                       0.4.1 *\r\n",
      "resource                          2.1.10 *\r\n",
      "role                               2.4.0 *\r\n",
      "search                             0.1.1 *\r\n",
      "security                           0.1.0 *\r\n",
      "servicebus                         0.3.3 *\r\n",
      "servicefabric                     0.1.12 *\r\n",
      "signalr                            1.0.0 *\r\n",
      "sql                                2.1.9 *\r\n",
      "sqlvm                              0.1.0 *\r\n",
      "storage                            2.3.1 *\r\n",
      "telemetry                          1.0.1 *\r\n",
      "vm                                2.2.15 *\r\n",
      "\r\n",
      "Extensions:\r\n",
      "azure-ml-admin-cli                 0.0.1\r\n",
      "azure-cli-ml                     Unknown\r\n",
      "\r\n",
      "Python location '/opt/az/bin/python3'\r\n",
      "Extensions directory '/opt/az/extensions'\r\n",
      "\r\n",
      "Python (Linux) 3.6.5 (default, Feb 12 2019, 02:10:43) \r\n",
      "[GCC 5.4.0 20160609]\r\n",
      "\r\n",
      "Legal docs and information: aka.ms/AzureCliLegal\r\n",
      "\r\n",
      "\r\n",
      "\u001b[33mYou have 57 updates available. Consider updating your CLI installation.\u001b[0m\r\n"
     ]
    }
   ],
   "source": [
    "!az --version"
   ]
  },
  {
   "cell_type": "markdown",
   "metadata": {},
   "source": [
    "### 1.3. Login to Azure\n",
    "<span style=\"color:red; font-weight: bold; font-size:1.5em;\"> [!Important] </span>  \n",
    "Run the following command and <span style=\"color:red; font-weight: bold; font-size:1.1em;\"> follow the instructions </span> in the corresponding output cell. You should enter the authentication code to let this notebook kernel be able to access Azure resources. You can run \"az logout\" command or stop the kernel to logout."
   ]
  },
  {
   "cell_type": "code",
   "execution_count": 20,
   "metadata": {},
   "outputs": [],
   "source": [
    "%%bash --out output\n",
    "az account show &> /dev/null\n",
    "if [ \"$?\" != \"0\" ]; then echo 'login'; fi"
   ]
  },
  {
   "cell_type": "code",
   "execution_count": 28,
   "metadata": {},
   "outputs": [
    {
     "name": "stdout",
     "output_type": "stream",
     "text": [
      "There is an active Azure login session exist.\n"
     ]
    }
   ],
   "source": [
    "if (output != ''):\n",
    "    print('You must sign in to Azure. Please follow the instructions below.')\n",
    "    !az login -o None\n",
    "    output = ''\n",
    "else:\n",
    "    print('There is an active Azure login session exist.')"
   ]
  },
  {
   "cell_type": "markdown",
   "metadata": {},
   "source": [
    "### 1.4. Set active Azure Subscription\n",
    "You may have more than one subscription and we will set the one you specified in **azureSubsctiptionId** as default one to be used."
   ]
  },
  {
   "cell_type": "code",
   "execution_count": 29,
   "metadata": {},
   "outputs": [
    {
     "name": "stdout",
     "output_type": "stream",
     "text": [
      "\u001b[0m"
     ]
    }
   ],
   "source": [
    "!az account set --subscription $azureSubsctiptionId"
   ]
  },
  {
   "cell_type": "markdown",
   "metadata": {},
   "source": [
    "### 1.5. Install dotenv python library to share global variables among code files\n",
    "dot-env library reads the key-value pair from .env file and adds them to environment variable. It is great for managing app settings during development and in production using 12-factor principles.  \n",
    "\n",
    "<span style=\"color:red; font-weight: bold; font-size:1.5em;\"> [!Important] </span>  \n",
    "Depending on your installation you may need to switch between pip and pip3. See cell output below for possible error and make appropriate switch."
   ]
  },
  {
   "cell_type": "code",
   "execution_count": 30,
   "metadata": {},
   "outputs": [
    {
     "name": "stdout",
     "output_type": "stream",
     "text": [
      "dotenv package found. Skipping re-installation...\n"
     ]
    }
   ],
   "source": [
    "%%bash\n",
    "if python3 -c 'import pkgutil; exit(not pkgutil.find_loader(\"dotenv\"))';\n",
    "then\n",
    "\techo \"dotenv package found. Skipping re-installation...\";\n",
    "else\n",
    "\techo \"dotenv package not found. Installing...\";\n",
    "    pip3 install python-dotenv;\n",
    "fi"
   ]
  },
  {
   "cell_type": "markdown",
   "metadata": {},
   "source": [
    "<span style=\"color:red; font-weight: bold; font-size:1.5em;\"> [!Important] </span>  \n",
    "You may have more than one Python3 installation (i.e. Python 3.6, Python 3.8 etc.), so pip3 command may install libraries under specific version which may cause the below cells execution to fail. Be sure that your Jupyter notebook running in the right Pyhon kernel version.  \n",
    "\n",
    "<img src=\"../doc_imgs/img_03_025.jpg\" width=300/>  "
   ]
  },
  {
   "cell_type": "markdown",
   "metadata": {},
   "source": [
    "### 1.6. Save global variables in .env file\n",
    "Check if .env file already exist. If not, create a new one.  \n",
    ".env file is the place we will store our variables to share with other code books of this sample.  \n",
    "if you want more details about dotenv python package please refer: https://pypi.org/project/python-dotenv/"
   ]
  },
  {
   "cell_type": "code",
   "execution_count": 40,
   "metadata": {},
   "outputs": [
    {
     "name": "stdout",
     "output_type": "stream",
     "text": [
      ".env file path: /data/home/mahesh/TF/curbside/notebooks/.env\n"
     ]
    }
   ],
   "source": [
    "from pathlib import Path\n",
    "from dotenv import set_key, get_key, find_dotenv\n",
    "\n",
    "envPath = find_dotenv()\n",
    "if envPath==\"\":\n",
    "    Path(\".env\").touch()\n",
    "    envPath = find_dotenv()\n",
    "envPath=\"/data/home/mahesh/TF/curbside/notebooks/.env\"\n",
    "print(\".env file path: {0}\".format(envPath))"
   ]
  },
  {
   "cell_type": "code",
   "execution_count": 37,
   "metadata": {},
   "outputs": [
    {
     "data": {
      "text/plain": [
       "(True,\n",
       " 'storageConnStr',\n",
       " 'DefaultEndpointsProtocol=https;AccountName=teamlvastorage;AccountKey=ajccjFTp4ix3C0nNDfn2h2LpNXQPAJLS6A4bb9PUIVqH7Zq7sEwG/SBLhEdd394XkOQoqs4UFDHzd56h9gnGtA==;EndpointSuffix=core.windows.net')"
      ]
     },
     "execution_count": 37,
     "metadata": {},
     "output_type": "execute_result"
    }
   ],
   "source": [
    "set_key(envPath, \"azureSubsctiptionId\", azureSubsctiptionId)\n",
    "set_key(envPath, \"resourceLocation\", resourceLocation)\n",
    "set_key(envPath, \"resourceGroupName\", resourceGroupName)\n",
    "set_key(envPath, \"containerRegServiceName\", containerRegServiceName)\n",
    "set_key(envPath, \"iotHubServiceName\", iotHubServiceName)\n",
    "set_key(envPath, \"mlSolutionPath\", mlSolutionPath)\n",
    "set_key(envPath, \"containerImageName\", containerImageName)\n",
    "set_key(envPath, \"iotDeviceId\", iotDeviceId)\n",
    "set_key(envPath, \"localContainerRegServiceName\", localContainerRegServiceName)\n",
    "set_key(envPath, \"storageConnStr\", storageConnStr)"
   ]
  },
  {
   "cell_type": "code",
   "execution_count": null,
   "metadata": {},
   "outputs": [],
   "source": []
  }
 ],
 "metadata": {
  "kernelspec": {
   "display_name": "Python 3.5",
   "language": "python",
   "name": "python3"
  },
  "language_info": {
   "codemirror_mode": {
    "name": "ipython",
    "version": 3
   },
   "file_extension": ".py",
   "mimetype": "text/x-python",
   "name": "python",
   "nbconvert_exporter": "python",
   "pygments_lexer": "ipython3",
   "version": "3.5.5"
  }
 },
 "nbformat": 4,
 "nbformat_minor": 2
}
