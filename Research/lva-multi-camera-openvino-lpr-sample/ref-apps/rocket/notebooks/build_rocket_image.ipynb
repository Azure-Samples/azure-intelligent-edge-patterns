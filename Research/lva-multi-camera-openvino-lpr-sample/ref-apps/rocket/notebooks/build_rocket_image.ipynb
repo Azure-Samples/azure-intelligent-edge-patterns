{
 "cells": [
  {
   "cell_type": "markdown",
   "metadata": {
    "collapsed": true
   },
   "source": [
    "# Build Rocket Docker Image\n",
    "This instruction describe how to build a Rocket image from its source code. You can also choose to deploy pre-built Rocket image with LVA. To do so, please skip the instructions below and move to the next section on [configuring lines of interest](./line_configuration.md)."
   ]
  },
  {
   "cell_type": "markdown",
   "metadata": {},
   "source": [
    "## Get global variables\n",
    "We will need to read the previously stored variables and login to ACR created in [create_azure_services.ipynb](../../../utilities/video-analysis/notebooks/common/create_azure_services.ipynb) for image uploading.  "
   ]
  },
  {
   "cell_type": "code",
   "execution_count": null,
   "metadata": {},
   "outputs": [],
   "source": [
    "import sys\n",
    "sys.path.append('../../../utilities/video-analysis/notebooks/common')\n",
    "\n",
    "from env_variables import *"
   ]
  },
  {
   "cell_type": "code",
   "execution_count": null,
   "metadata": {},
   "outputs": [],
   "source": [
    "!sudo docker login --username $acrUserName --password $acrPassword  $acrServiceFullName"
   ]
  },
  {
   "cell_type": "markdown",
   "metadata": {},
   "source": [
    "Define containerImageName."
   ]
  },
  {
   "cell_type": "code",
   "execution_count": null,
   "metadata": {},
   "outputs": [],
   "source": [
    "containerImageName = \"rocket-custom\"\n",
    "set_key(envPath, \"CONTAINER_IMAGE_NAME\", containerImageName)"
   ]
  },
  {
   "cell_type": "markdown",
   "metadata": {},
   "source": [
    "## Build on Linux\n",
    "Rocket is built using .NET Core, and we recommend running it as a [Docker](https://www.docker.com/) container is recommended. Below we use Ubuntu 18.04 as an example to walk through the steps of building Rocket docker image and run it with GPU acceleration. "
   ]
  },
  {
   "cell_type": "markdown",
   "metadata": {},
   "source": [
    "### Prerequisites  \n",
    "* [Visual Studio Code](https://code.visualstudio.com/) is recommended IDE for Rocket on Linux.\n",
    "* Make sure [Git](https://git-scm.com/book/en/v2/Getting-Started-Installing-Git) and [Docker](https://docs.docker.com/install/linux/docker-ce/ubuntu/) are installed. Otherwise please follow instructions in [requirements.md](../../../utilities/video-analysis/notebooks/common/requirements.md) to install them. "
   ]
  },
  {
   "cell_type": "markdown",
   "metadata": {},
   "source": [
    "### Build your own Rocket image on Linux  \n",
    "* Git clone the [repository](https://aka.ms/lva-notebook/).\n",
    "* Run `docker build` to [build](https://docs.docker.com/engine/reference/commandline/build/) Rocket image using `Dockerfile` in the root directory of the Rocket.  "
   ]
  },
  {
   "cell_type": "code",
   "execution_count": null,
   "metadata": {},
   "outputs": [],
   "source": [
    "os.chdir('../csharp')"
   ]
  },
  {
   "cell_type": "code",
   "execution_count": null,
   "metadata": {},
   "outputs": [],
   "source": [
    "!sudo docker build -t $acrServiceFullName/$containerImageName -f Dockerfile ."
   ]
  },
  {
   "cell_type": "markdown",
   "metadata": {},
   "source": [
    "* Push Rocket image to the Azure Container Registry that you created in previous steps for Rocket to run on the IoT Edge Device. You can also choose to push it to a different cloud repository (e.g., docker hub). "
   ]
  },
  {
   "cell_type": "code",
   "execution_count": null,
   "metadata": {},
   "outputs": [],
   "source": [
    "!sudo docker push $acrServiceFullName/$containerImageName"
   ]
  },
  {
   "cell_type": "markdown",
   "metadata": {},
   "source": [
    "## Build on Windows"
   ]
  },
  {
   "cell_type": "markdown",
   "metadata": {},
   "source": [
    "### Prerequisites  \n",
    "* [Microsoft Visual Studio](https://visualstudio.microsoft.com/downloads/) (>= VS 2017) is recommended IDE for Rocket on Windows 10. \n",
    "* Git for Windows (https://git-scm.com/download/win).\n",
    "* Docker Desktop for Windows (https://docs.docker.com/docker-for-windows/install/). Please make sure it's set to `Linux containers` in Settings."
   ]
  },
  {
   "cell_type": "markdown",
   "metadata": {},
   "source": [
    "### Build your own Rocket image on Windows\n",
    "* Git clone the release-lva branch from [repository](https://aka.ms/lva-notebook/).\n",
    "* Build docker image in Windows PowerShell in the root directory of Rocket.  "
   ]
  },
  {
   "cell_type": "code",
   "execution_count": null,
   "metadata": {},
   "outputs": [],
   "source": [
    "os.chdir('../csharp')"
   ]
  },
  {
   "cell_type": "code",
   "execution_count": null,
   "metadata": {},
   "outputs": [],
   "source": [
    "!docker build -t $acrServiceFullName/$containerImageName -f Dockerfile ."
   ]
  },
  {
   "cell_type": "markdown",
   "metadata": {},
   "source": [
    "* Push docker image.  "
   ]
  },
  {
   "cell_type": "code",
   "execution_count": null,
   "metadata": {},
   "outputs": [],
   "source": [
    "!docker push $acrServiceFullName/$containerImageName"
   ]
  }
 ],
 "metadata": {
  "jupytext": {
   "cell_metadata_filter": "-all",
   "main_language": "python"
  },
  "kernelspec": {
   "display_name": "",
   "language": "",
   "name": ""
  }
 },
 "nbformat": 4,
 "nbformat_minor": 2
}
