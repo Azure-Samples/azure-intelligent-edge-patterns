{
 "cells": [
  {
   "cell_type": "markdown",
   "metadata": {},
   "source": [
    "# De-Activating and Deleting Media Graphs"
   ]
  },
  {
   "cell_type": "markdown",
   "metadata": {},
   "source": [
    "## Install Prerequisites\n",
    "We will use a simple Python script to deploy our media graph Json file into the \"lvaEdge\" module. Our process entails sending a file into the IoT Edge device over the Internet through a IoT Edge Hub service. To do so, we need to install following Python packages. These packages were developed by Microsoft and help with interacting with IoT Hub Services.\n",
    "\n",
    "!Important: As mentioned in the first section of this tutorial, you must use the right ```pip``` command (```pip``` or ```pip3```) depending on your Python installation. This sample is tested with Python version 3.6 and so we use the ```pip3``` command to install the packages into our Python3 environment."
   ]
  },
  {
   "cell_type": "code",
   "execution_count": null,
   "metadata": {},
   "outputs": [],
   "source": [
    "!pip3 install azure-iot-device\n",
    "!pip3 install azure-iot-hub"
   ]
  },
  {
   "cell_type": "markdown",
   "metadata": {},
   "source": [
    "## Import A Helper Python Class to Deploy Media Graphs\n",
    "The following code snippet will import a custom Python class to help us deploy media edge graphs. After the import, we will instantiate a graph manager object with IoT Hub, IoT Edge Device, and Graph API version details."
   ]
  },
  {
   "cell_type": "code",
   "execution_count": 1,
   "metadata": {},
   "outputs": [],
   "source": [
    "from env_variables import *\n",
    "from graph_manager import GraphManager\n",
    "\n",
    "moduleId = \"lvaEdge\" # Must be same as the name that we assigned to LVA module in the deployment manifest file\n",
    "operationsApiVersion = \"1.0\"  # Must be same as the version number in the deployment manifest file\n",
    "\n",
    "graphManager = GraphManager(iotHubConnString, iotDeviceId, moduleId, operationsApiVersion)"
   ]
  },
  {
   "cell_type": "markdown",
   "metadata": {},
   "source": [
    "## De-Activate Topology Instance\n",
    "In case you do not want to run the topology, you can de-activate it at any time. The following code snippet will de-activate your instance, meaning it will no longer be running.\n",
    "\n",
    ">[!IMPORTANT]  \n",
    ">Be sure to set the name parameter below to the exact topology instance name that we used in the previous node."
   ]
  },
  {
   "cell_type": "code",
   "execution_count": 2,
   "metadata": {},
   "outputs": [
    {
     "name": "stdout",
     "output_type": "stream",
     "text": [
      "{'additional_properties': {}, 'status': 200, 'payload': None}\n"
     ]
    }
   ],
   "source": [
    "# De-Activate topology instance\n",
    "operationParams = {\n",
    "                    \"name\": \"Sample-Graph-1\"\n",
    "                    }\n",
    "\n",
    "response = graphManager.GenericCall(\"GraphInstanceDeactivate\", operationParams)\n",
    "print(response)"
   ]
  },
  {
   "cell_type": "markdown",
   "metadata": {},
   "source": [
    "## Delete Graph Topology Instance\n",
    "The following code snippet is shows how to delete a previously deployed instance."
   ]
  },
  {
   "cell_type": "code",
   "execution_count": 3,
   "metadata": {},
   "outputs": [
    {
     "name": "stdout",
     "output_type": "stream",
     "text": [
      "{'additional_properties': {}, 'status': 200, 'payload': None}\n"
     ]
    }
   ],
   "source": [
    "# Delete instance\n",
    "operationParams = {\n",
    "                    \"name\": \"Sample-Graph-1\"\n",
    "                    }\n",
    "\n",
    "response = graphManager.GenericCall(\"GraphInstanceDelete\", operationParams)\n",
    "print(response)"
   ]
  },
  {
   "cell_type": "markdown",
   "metadata": {},
   "source": [
    "## Delete Graph Topology\n",
    "The following code snippet shows how to delete the previously deployed toplogy.\n",
    "\n",
    ">[!IMPORTANT]  \n",
    ">Be sure to set the name parameter below to the exact topology name that you want to delete."
   ]
  },
  {
   "cell_type": "code",
   "execution_count": 4,
   "metadata": {},
   "outputs": [
    {
     "name": "stdout",
     "output_type": "stream",
     "text": [
      "{'additional_properties': {}, 'status': 200, 'payload': None}\n"
     ]
    }
   ],
   "source": [
    "# Delete topology\n",
    "operationParams = {\n",
    "                    \"name\": \"EVROnMotionPlusHttpExtension\"\n",
    "                    }\n",
    "\n",
    "response = graphManager.GenericCall(\"GraphTopologyDelete\", operationParams)\n",
    "print(response)"
   ]
  },
  {
   "cell_type": "markdown",
   "metadata": {},
   "source": [
    "## Next Steps\n",
    "If all the code cells above have successfully finished running, congratulations, you have finished this sample!"
   ]
  }
 ],
 "metadata": {
  "kernelspec": {
   "display_name": "Python 3",
   "language": "python",
   "name": "python3"
  },
  "language_info": {
   "codemirror_mode": {
    "name": "ipython",
    "version": 3
   },
   "file_extension": ".py",
   "mimetype": "text/x-python",
   "name": "python",
   "nbconvert_exporter": "python",
   "pygments_lexer": "ipython3",
   "version": "3.7.6"
  }
 },
 "nbformat": 4,
 "nbformat_minor": 4
}
