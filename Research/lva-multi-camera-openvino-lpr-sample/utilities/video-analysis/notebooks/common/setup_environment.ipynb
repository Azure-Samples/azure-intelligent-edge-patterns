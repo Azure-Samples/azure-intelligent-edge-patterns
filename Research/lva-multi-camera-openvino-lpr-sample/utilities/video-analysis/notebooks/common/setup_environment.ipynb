{
 "cells": [
  {
   "cell_type": "markdown",
   "metadata": {},
   "source": [
    "# Setting Up the Deployment/Test Environment\n"
   ]
  },
  {
   "cell_type": "markdown",
   "metadata": {},
   "source": [
    "## Set Up Global Variables\n",
    "\n",
    "First, change the azureSubscriptionId, resourceLocation, and resourceGroupName variables. The resourceGroupName defaults to a random unique name using the cell below.\n",
    "\n",
    "### Note:\n",
    "Please read about naming conventions and restrictions before continuing:  \n",
    "- [Naming rules and restrictions for Azure resources](https://docs.microsoft.com/en-us/azure/azure-resource-manager/management/resource-name-rules)  \n",
    "- [Create a unique name for a resource](https://docs.microsoft.com/en-us/azure/azure-resource-manager/templates/template-functions-string#uniquestring)  "
   ]
  },
  {
   "cell_type": "code",
   "execution_count": 1,
   "metadata": {},
   "outputs": [],
   "source": [
    "# First, we will create a random name to append our Azure resource names. The name is not guaranteed to be unique, but doing this will increase the chances of generating a unique name. If the code snippet returns an error such as \"resource name already exist\", you should re-generate new name values.\n",
    "import uuid \n",
    "nearlyUniqueName = uuid.uuid4().hex[:6].lower()"
   ]
  },
  {
   "cell_type": "code",
   "execution_count": 2,
   "metadata": {},
   "outputs": [],
   "source": [
    "# Mandatory settings section\n",
    "# ---------------------------\n",
    "\n",
    "# Define the ID of the Azure subscription that will be used\n",
    "# You can find your subscription ID at https://account.azure.com/subscriptions\n",
    "azureSubscriptionId = \"e78c95ce-3ed7-49eb-a19e-8ebcc73bb608\"\n",
    "\n",
    "# Define the datacenter location of the Azure services that will be created. \n",
    "# To get the list of possible resource locations, use the following commands on an Azure CLI-enabled terminal window:\n",
    "# az account list-locations\n",
    "# Please select a region to deploy resources from this list: canadaeast, centralus, eastus2, francecentral, japanwest, northcentralus, switzerlandnorth, uksouth, westcentralus, westus2, eastus2euap, centraluseuap.\n",
    "resourceLocation = \"southcentralus\" \n",
    "\n",
    "# Define the name of the resource group you will use to contain all of the Azure services that will be created.\n",
    "# Please use a globally unique resource group name\n",
    "resourceGroupName = \"lvasample\" + nearlyUniqueName\n",
    "# resourceGroupName = \"<RESOURCE_GROUP_NAME>\"  # Uncomment this command if you want to create your own Resource Group Name\n",
    "\n",
    "# Optional settings section\n",
    "# ---------------------------\n",
    "\n",
    "# Azure Container Registry service to host your Docker container images\n",
    "acrServiceName = resourceGroupName+'contreg'\n",
    "\n",
    "# Azure IoT Hub service\n",
    "iotHubServiceName = resourceGroupName+'iothub'\n",
    "\n",
    "# Name of the container image for ML solution\n",
    "containerImageName = resourceGroupName+'aimodule'\n",
    "\n",
    "# Define a unique IoT Edge device ID\n",
    "iotDeviceId = resourceGroupName+'iotdevid'\n",
    "\n",
    "# Azure Media services\n",
    "mediaServiceName = resourceGroupName+'ams'\n",
    "\n",
    "# Azure Storage services\n",
    "storageServiceName = resourceGroupName+'storage'\n",
    "\n",
    "# Define a folder name that will be the host to all your ML solution files\n",
    "isSolutionPath = \"inferenceserver\""
   ]
  },
  {
   "cell_type": "markdown",
   "metadata": {},
   "source": [
    "## Check Azure CLI Version\n",
    "Azure CLI is required to run this sample. Please check if Azure CLI has been installed on your machine. If it has not, then visit the [requirements for running LVA on Jupyter](01_requirements.md) page. "
   ]
  },
  {
   "cell_type": "code",
   "execution_count": 3,
   "metadata": {},
   "outputs": [
    {
     "name": "stdout",
     "output_type": "stream",
     "text": [
      "azure-cli                         2.0.80 *\n",
      "\n",
      "command-modules-nspkg              2.0.3\n",
      "core                              2.0.80 *\n",
      "nspkg                              3.0.4\n",
      "telemetry                          1.0.4\n",
      "\n",
      "Extensions:\n",
      "azure-cli-ml                      1.0.85\n",
      "\n",
      "Python location '/opt/az/bin/python3'\n",
      "Extensions directory '/opt/az/extensions'\n",
      "\n",
      "Python (Linux) 3.6.5 (default, Jan 13 2020, 05:04:39) \n",
      "[GCC 7.4.0]\n",
      "\n",
      "Legal docs and information: aka.ms/AzureCliLegal\n",
      "\n",
      "\n",
      "\n",
      "\u001b[33mYou have 2 updates available. Consider updating your CLI installation. Instructions can be found at https://docs.microsoft.com/en-us/cli/azure/install-azure-cli\u001b[0m\n",
      "\n",
      "\u001b[33m\u001b[1mPlease let us know how we are doing: \u001b[34mhttps://aka.ms/clihats\u001b[0m\n",
      "\u001b[0m"
     ]
    }
   ],
   "source": [
    "!az --version"
   ]
  },
  {
   "cell_type": "markdown",
   "metadata": {},
   "source": [
    "## Login to Azure\n",
    "> <span style=\"color:red; font-weight:bold\"> [!IMPORTANT] </span>  \n",
    "> Run the following command and **follow the instructions** in the corresponding output cell. You should enter the authentication code to allow this notebook kernel to access Azure resources. You can run the `az logout` command or stop the kernel to logout."
   ]
  },
  {
   "cell_type": "code",
   "execution_count": 4,
   "metadata": {},
   "outputs": [],
   "source": [
    "%%bash --out output\n",
    "az account show &> /dev/null\n",
    "if [ \"$?\" != \"0\" ]; then echo 'login'; fi"
   ]
  },
  {
   "cell_type": "code",
   "execution_count": 5,
   "metadata": {},
   "outputs": [
    {
     "name": "stdout",
     "output_type": "stream",
     "text": [
      "There is an active Azure login session.\n"
     ]
    }
   ],
   "source": [
    "if (output != ''):\n",
    "    print('You must sign in to Azure. Please follow the instructions below.')\n",
    "    !az login -o None\n",
    "    output = ''\n",
    "else:\n",
    "    print('There is an active Azure login session.')"
   ]
  },
  {
   "cell_type": "markdown",
   "metadata": {},
   "source": [
    "> <span> [!NOTE] </span>  \n",
    "> If the code cells above return errors, you may be using a terminal that does not support Bash commands. If you are using a machine running Windows, you can try either of the following solutions:\n",
    "> <br><br>Option 1: Turn on the [Windows Subsystem for Linux](https://code.visualstudio.com/remote-tutorials/wsl/enable-wsl) setting. Then, download [Ubuntu 18.04](https://docs.microsoft.com/en-us/windows/wsl/install-win10#install-your-linux-distribution-of-choice) and [switch the terminal setting](https://code.visualstudio.com/docs/remote/wsl#_open-a-remote-folder-or-workspace) in VSCode so that the WSL terminal is used.\n",
    "> <br><br>Option 2: Install [Git Bash](https://git-scm.com/downloads) and [switch the terminal setting](https://code.visualstudio.com/docs/editor/integrated-terminal) in VSCode so that the Bash terminal is used."
   ]
  },
  {
   "cell_type": "markdown",
   "metadata": {},
   "source": [
    "## Set Active Azure Subscription\n",
    "In case you have more than one Azure subscription, we will set the one you specified in the **azureSubscriptionId** variable as the default to be used."
   ]
  },
  {
   "cell_type": "code",
   "execution_count": 6,
   "metadata": {},
   "outputs": [
    {
     "name": "stdout",
     "output_type": "stream",
     "text": [
      "\u001b[0m"
     ]
    }
   ],
   "source": [
    "!az account set --subscription $azureSubscriptionId"
   ]
  },
  {
   "cell_type": "markdown",
   "metadata": {},
   "source": [
    "## Install the dotenv Python Library \n",
    "\n",
    "We will now be installing the [dotenv Python library](https://pypi.org/project/python-dotenv/). This library reads the key-value pair from a .env file and adds them to the environment variables. This library is great for managing app settings during development and sharing global variables among code files.\n",
    "\n",
    "> <span style=\"color:red; font-weight: bold;\"> [!IMPORTANT] </span>  \n",
    "> Depending on your version of Python, you may need to switch between `pip` and `pip3`. Check the output of the cell below for possible errors and make the appropriate switch if needed."
   ]
  },
  {
   "cell_type": "code",
   "execution_count": 7,
   "metadata": {},
   "outputs": [
    {
     "name": "stdout",
     "output_type": "stream",
     "text": [
      "dotenv package found. Skipping re-installation...\n"
     ]
    }
   ],
   "source": [
    "%%bash\n",
    "if python3 -c 'import pkgutil; exit(not pkgutil.find_loader(\"dotenv\"))';\n",
    "then\n",
    "\techo \"dotenv package found. Skipping re-installation...\";\n",
    "else\n",
    "\techo \"dotenv package not found. Installing...\";\n",
    "    pip install python-dotenv;\n",
    "fi"
   ]
  },
  {
   "cell_type": "markdown",
   "metadata": {},
   "source": [
    "## Save Global Variables in .env File\n",
    "Check if a .env file already exist. If not, create a new one. The .env file is where we will store our variables to share with other code books of this sample."
   ]
  },
  {
   "cell_type": "code",
   "execution_count": 8,
   "metadata": {},
   "outputs": [
    {
     "name": "stdout",
     "output_type": "stream",
     "text": [
      ".env file path: /home/visionadmin/source/live-video-analytics/utilities/video-analysis/notebooks/common/.env\n"
     ]
    }
   ],
   "source": [
    "from pathlib import Path\n",
    "from dotenv import set_key, get_key, find_dotenv\n",
    "\n",
    "envPath = find_dotenv()\n",
    "if envPath==\"\":\n",
    "    Path(\".env\").touch()\n",
    "    envPath = find_dotenv()\n",
    "    \n",
    "print(\".env file path: {0}\".format(envPath))"
   ]
  },
  {
   "cell_type": "code",
   "execution_count": 9,
   "metadata": {},
   "outputs": [
    {
     "data": {
      "text/plain": [
       "(True, 'IS_SOLUTION_PATH', 'inferenceserver')"
      ]
     },
     "execution_count": 9,
     "metadata": {},
     "output_type": "execute_result"
    }
   ],
   "source": [
    "set_key(envPath, \"NEARLY_UNIQUE_NAME\", nearlyUniqueName)\n",
    "set_key(envPath, \"SUBSCRIPTION_ID\", azureSubscriptionId)\n",
    "set_key(envPath, \"RESOURCE_LOCATION\", resourceLocation)\n",
    "set_key(envPath, \"RESOURCE_GROUP\", resourceGroupName)\n",
    "set_key(envPath, \"ACR_SERVICE_NAME\", acrServiceName)\n",
    "set_key(envPath, \"CONTAINER_IMAGE_NAME\", containerImageName)\n",
    "set_key(envPath, \"IOT_HUB_SERVICE_NAME\", iotHubServiceName)\n",
    "set_key(envPath, \"IOT_DEVICE_ID\", iotDeviceId)\n",
    "set_key(envPath, \"AMS_ACCOUNT\", mediaServiceName)\n",
    "set_key(envPath, \"STORAGE_SERVICE_NAME\", storageServiceName)\n",
    "set_key(envPath, \"IS_SOLUTION_PATH\", isSolutionPath)"
   ]
  },
  {
   "cell_type": "markdown",
   "metadata": {},
   "source": [
    "## Next Steps\n",
    "If all the code cells above have successfully finished running, check the [.env file](.env) to see if all the variables set above have been included. Then, return to the Readme page to continue.   "
   ]
  },
  {
   "cell_type": "code",
   "execution_count": null,
   "metadata": {},
   "outputs": [],
   "source": []
  }
 ],
 "metadata": {
  "kernelspec": {
   "display_name": "Python 3",
   "language": "python",
   "name": "python3"
  },
  "language_info": {
   "codemirror_mode": {
    "name": "ipython",
    "version": 3
   },
   "file_extension": ".py",
   "mimetype": "text/x-python",
   "name": "python",
   "nbconvert_exporter": "python",
   "pygments_lexer": "ipython3",
   "version": "3.7.6"
  }
 },
 "nbformat": 4,
 "nbformat_minor": 4
}
