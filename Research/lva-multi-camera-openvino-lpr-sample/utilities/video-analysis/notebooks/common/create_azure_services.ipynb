{
 "cells": [
  {
   "cell_type": "markdown",
   "metadata": {},
   "source": [
    "# Create Required Azure Services\n",
    "Before starting this section, make sure you have set up the global variables from the previous section. Once your global variables have been set up, you no longer have to set them up again, as they are stored in a .env environment file. \n",
    "\n",
    "If you delete your .env file or your Azure login session expires, you may need to re-run the setup process as shown in the [previous section](02_setup_environment.ipynb). Keep this in mind when proceeding onto the other sections in this sample."
   ]
  },
  {
   "cell_type": "markdown",
   "metadata": {},
   "source": [
    "### Note:\n",
    "\n",
    "If you already have resources setup that are ready to be used, please create a .env file in this folder and populate that file with the parameters along with their values as mentioned in the cells below along with the gloabl variable fro mthe previous section and you can skip running the cell in this notebook.\n",
    "\n",
    "If you dont have the resources or an unsure, please follow the steps below to create them"
   ]
  },
  {
   "cell_type": "markdown",
   "metadata": {},
   "source": [
    "## Get Global Variables\n",
    "First, we will read the previously stored global variables."
   ]
  },
  {
   "cell_type": "code",
   "execution_count": null,
   "metadata": {},
   "outputs": [],
   "source": [
    "from env_variables import *"
   ]
  },
  {
   "cell_type": "markdown",
   "metadata": {},
   "source": [
    "## Create Resource Group\n",
    "A resource group is a container that holds related resources for an Azure solution. The resource group can include all the resources for the solution, or only those resources that you want to manage as a group. \n",
    "We will now create a new Azure resource group using the resource group name and location set in the [previous section](02_setup_environment.ipynb). Check that this name is present in the .env file, as this name will be auto-filled into the placeholders starting with the character \"$\". "
   ]
  },
  {
   "cell_type": "code",
   "execution_count": 2,
   "metadata": {},
   "outputs": [
    {
     "name": "stdout",
     "output_type": "stream",
     "text": [
      "{\n",
      "  \"id\": \"/subscriptions/e78c95ce-3ed7-49eb-a19e-8ebcc73bb608/resourceGroups/lvasample5d672f\",\n",
      "  \"location\": \"southcentralus\",\n",
      "  \"managedBy\": null,\n",
      "  \"name\": \"lvasample5d672f\",\n",
      "  \"properties\": {\n",
      "    \"provisioningState\": \"Succeeded\"\n",
      "  },\n",
      "  \"tags\": null,\n",
      "  \"type\": \"Microsoft.Resources/resourceGroups\"\n",
      "}\n",
      "\u001b[0m"
     ]
    }
   ],
   "source": [
    "!az group create --name $resourceGroupName --location  $resourceLocation"
   ]
  },
  {
   "cell_type": "markdown",
   "metadata": {},
   "source": [
    "## Create Azure Container Registry Service\n",
    "We will use Azure Container Registry (ACR) to store our module images."
   ]
  },
  {
   "cell_type": "code",
   "execution_count": 3,
   "metadata": {},
   "outputs": [
    {
     "name": "stdout",
     "output_type": "stream",
     "text": [
      "\u001b[K{- Finished ..\n",
      "  \"adminUserEnabled\": true,\n",
      "  \"creationDate\": \"2020-07-06T21:09:39.808690+00:00\",\n",
      "  \"id\": \"/subscriptions/e78c95ce-3ed7-49eb-a19e-8ebcc73bb608/resourceGroups/lvasample5d672f/providers/Microsoft.ContainerRegistry/registries/lvasample5d672fcontreg\",\n",
      "  \"location\": \"southcentralus\",\n",
      "  \"loginServer\": \"lvasample5d672fcontreg.azurecr.io\",\n",
      "  \"name\": \"lvasample5d672fcontreg\",\n",
      "  \"networkRuleSet\": null,\n",
      "  \"policies\": {\n",
      "    \"quarantinePolicy\": {\n",
      "      \"status\": \"disabled\"\n",
      "    },\n",
      "    \"retentionPolicy\": {\n",
      "      \"days\": 7,\n",
      "      \"lastUpdatedTime\": \"2020-07-06T21:09:40.299195+00:00\",\n",
      "      \"status\": \"disabled\"\n",
      "    },\n",
      "    \"trustPolicy\": {\n",
      "      \"status\": \"disabled\",\n",
      "      \"type\": \"Notary\"\n",
      "    }\n",
      "  },\n",
      "  \"provisioningState\": \"Succeeded\",\n",
      "  \"resourceGroup\": \"lvasample5d672f\",\n",
      "  \"sku\": {\n",
      "    \"name\": \"Basic\",\n",
      "    \"tier\": \"Basic\"\n",
      "  },\n",
      "  \"status\": null,\n",
      "  \"storageAccount\": null,\n",
      "  \"tags\": {},\n",
      "  \"type\": \"Microsoft.ContainerRegistry/registries\"\n",
      "}\n",
      "\u001b[0m"
     ]
    }
   ],
   "source": [
    "!az acr create --name $acrServiceName --resource-group $resourceGroupName --location $resourceLocation --sku Basic --admin-enabled true"
   ]
  },
  {
   "cell_type": "markdown",
   "metadata": {},
   "source": [
    "> <span style=\"color:red; font-weight: bold\"> [!WARNING] </span>  \n",
    "> Even if the cell above finishes executing, it may take several seconds to minutes to have the changes reflected on Azure Datacenter. Wait for 2-3 minutes before proceeding to the next cell to avoid running into errors."
   ]
  },
  {
   "cell_type": "markdown",
   "metadata": {},
   "source": [
    "### Get Access Credentials from ACR\n",
    "After the ACR resource has been generated, we can grab the access credentials from ACR by running the following code snippets."
   ]
  },
  {
   "cell_type": "code",
   "execution_count": 4,
   "metadata": {},
   "outputs": [],
   "source": [
    "%%bash --out output -s \"$acrServiceName\"\n",
    "az acr credential show -n $1"
   ]
  },
  {
   "cell_type": "code",
   "execution_count": 5,
   "metadata": {},
   "outputs": [],
   "source": [
    "import json\n",
    "jsonRegDetails = json.loads(output)\n",
    "\n",
    "acrUserName = jsonRegDetails['username']\n",
    "acrPassword = jsonRegDetails['passwords'][0]['value']"
   ]
  },
  {
   "cell_type": "markdown",
   "metadata": {},
   "source": [
    "Run the cell below to save these ACR credentials for future use by storing them in the .env file."
   ]
  },
  {
   "cell_type": "code",
   "execution_count": 6,
   "metadata": {},
   "outputs": [],
   "source": [
    "set_key(envPath, \"CONTAINER_REGISTRY_USERNAME_myacr\", acrUserName)\n",
    "set_key(envPath, \"CONTAINER_REGISTRY_PASSWORD_myacr\", acrPassword)\n",
    "tempVar = set_key(envPath, \"ACR_SERVICE_FULL_NAME\", acrServiceName+\".azurecr.io\")"
   ]
  },
  {
   "cell_type": "markdown",
   "metadata": {},
   "source": [
    "## Create Azure IoT Hub\n",
    "Next, we will create an Azure IoT Hub.\n",
    "> <span style=\"color:red; font-weight: bold\"> [!WARNING] </span>  \n",
    "> Running the code snippet below may yield the following error: \"IotHub name '<NAME\\>' is not available\". This error appears if the service already exists. If you see the error, skip the step, as you have likely created the resource already.\n"
   ]
  },
  {
   "cell_type": "code",
   "execution_count": 7,
   "metadata": {},
   "outputs": [
    {
     "name": "stdout",
     "output_type": "stream",
     "text": [
      "\u001b[K{- Finished ..\n",
      "  \"etag\": \"AAAAAD5cbEg=\",\n",
      "  \"id\": \"/subscriptions/e78c95ce-3ed7-49eb-a19e-8ebcc73bb608/resourceGroups/lvasample5d672f/providers/Microsoft.Devices/IotHubs/lvasample5d672fiothub\",\n",
      "  \"location\": \"southcentralus\",\n",
      "  \"name\": \"lvasample5d672fiothub\",\n",
      "  \"properties\": {\n",
      "    \"authorizationPolicies\": null,\n",
      "    \"cloudToDevice\": {\n",
      "      \"defaultTtlAsIso8601\": \"1:00:00\",\n",
      "      \"feedback\": {\n",
      "        \"lockDurationAsIso8601\": \"0:00:05\",\n",
      "        \"maxDeliveryCount\": 10,\n",
      "        \"ttlAsIso8601\": \"1:00:00\"\n",
      "      },\n",
      "      \"maxDeliveryCount\": 10\n",
      "    },\n",
      "    \"comments\": null,\n",
      "    \"deviceStreams\": null,\n",
      "    \"enableFileUploadNotifications\": false,\n",
      "    \"eventHubEndpoints\": {\n",
      "      \"events\": {\n",
      "        \"endpoint\": \"sb://iothub-ns-lvasample5-3777735-a4b0b36f84.servicebus.windows.net/\",\n",
      "        \"partitionCount\": 4,\n",
      "        \"partitionIds\": [\n",
      "          \"0\",\n",
      "          \"1\",\n",
      "          \"2\",\n",
      "          \"3\"\n",
      "        ],\n",
      "        \"path\": \"lvasample5d672fiothub\",\n",
      "        \"retentionTimeInDays\": 1\n",
      "      }\n",
      "    },\n",
      "    \"features\": \"None\",\n",
      "    \"hostName\": \"lvasample5d672fiothub.azure-devices.net\",\n",
      "    \"ipFilterRules\": [],\n",
      "    \"locations\": [\n",
      "      {\n",
      "        \"location\": \"South Central US\",\n",
      "        \"role\": \"primary\"\n",
      "      },\n",
      "      {\n",
      "        \"location\": \"North Central US\",\n",
      "        \"role\": \"secondary\"\n",
      "      }\n",
      "    ],\n",
      "    \"messagingEndpoints\": {\n",
      "      \"fileNotifications\": {\n",
      "        \"lockDurationAsIso8601\": \"0:01:00\",\n",
      "        \"maxDeliveryCount\": 10,\n",
      "        \"ttlAsIso8601\": \"1:00:00\"\n",
      "      }\n",
      "    },\n",
      "    \"provisioningState\": \"Succeeded\",\n",
      "    \"routing\": {\n",
      "      \"endpoints\": {\n",
      "        \"eventHubs\": [],\n",
      "        \"serviceBusQueues\": [],\n",
      "        \"serviceBusTopics\": [],\n",
      "        \"storageContainers\": []\n",
      "      },\n",
      "      \"enrichments\": null,\n",
      "      \"fallbackRoute\": {\n",
      "        \"condition\": \"true\",\n",
      "        \"endpointNames\": [\n",
      "          \"events\"\n",
      "        ],\n",
      "        \"isEnabled\": true,\n",
      "        \"name\": \"$fallback\"\n",
      "      },\n",
      "      \"routes\": []\n",
      "    },\n",
      "    \"state\": \"Active\",\n",
      "    \"storageEndpoints\": {\n",
      "      \"$default\": {\n",
      "        \"connectionString\": \"\",\n",
      "        \"containerName\": \"\",\n",
      "        \"sasTtlAsIso8601\": \"1:00:00\"\n",
      "      }\n",
      "    }\n",
      "  },\n",
      "  \"resourcegroup\": \"lvasample5d672f\",\n",
      "  \"sku\": {\n",
      "    \"capacity\": 1,\n",
      "    \"name\": \"S1\",\n",
      "    \"tier\": \"Standard\"\n",
      "  },\n",
      "  \"subscriptionid\": \"e78c95ce-3ed7-49eb-a19e-8ebcc73bb608\",\n",
      "  \"tags\": {},\n",
      "  \"type\": \"Microsoft.Devices/IotHubs\"\n",
      "}\n",
      "\u001b[0m"
     ]
    }
   ],
   "source": [
    "!az iot hub create --name $iotHubServiceName --resource-group $resourceGroupName --location $resourceLocation --sku S1"
   ]
  },
  {
   "cell_type": "markdown",
   "metadata": {},
   "source": [
    "Run the cells below to save these Azure IoT Hub connection string for future use by storing it in the .env file. This string is used to identify the hub."
   ]
  },
  {
   "cell_type": "code",
   "execution_count": 8,
   "metadata": {},
   "outputs": [],
   "source": [
    "%%bash --out iotHubConnString -s \"$resourceGroupName\" \"$iotHubServiceName\"\n",
    "\n",
    "az iot hub show-connection-string --hub-name $2 --output tsv"
   ]
  },
  {
   "cell_type": "code",
   "execution_count": 9,
   "metadata": {},
   "outputs": [],
   "source": [
    "tempVar = set_key(envPath, \"IOT_HUB_CONN_STRING\", iotHubConnString.rstrip())"
   ]
  },
  {
   "cell_type": "markdown",
   "metadata": {},
   "source": [
    "## Create IoT Edge Device Identity\n",
    "To run LVA on the Edge, we will need to create an IoT Edge device to run our modules with AI capability. In the code below, we will instruct Azure IoT Hub to create a resource framework for this cloud-based IoT Edge device."
   ]
  },
  {
   "cell_type": "code",
   "execution_count": 10,
   "metadata": {},
   "outputs": [
    {
     "name": "stdout",
     "output_type": "stream",
     "text": [
      "\u001b[33mExtension 'azure-iot' is already installed.\u001b[0m\n",
      "\u001b[0m"
     ]
    }
   ],
   "source": [
    "# Install iot hub CLI extensions\n",
    "!sudo az extension add --name azure-iot"
   ]
  },
  {
   "cell_type": "code",
   "execution_count": 11,
   "metadata": {},
   "outputs": [
    {
     "name": "stdout",
     "output_type": "stream",
     "text": [
      "azure-cli                         2.0.80 *\n",
      "\n",
      "command-modules-nspkg              2.0.3\n",
      "core                              2.0.80 *\n",
      "nspkg                              3.0.4\n",
      "telemetry                          1.0.4\n",
      "\n",
      "Extensions:\n",
      "azure-cli-ml                      1.0.85\n",
      "\n",
      "Python location '/opt/az/bin/python3'\n",
      "Extensions directory '/opt/az/extensions'\n",
      "\n",
      "Python (Linux) 3.6.5 (default, Jan 13 2020, 05:04:39) \n",
      "[GCC 7.4.0]\n",
      "\n",
      "Legal docs and information: aka.ms/AzureCliLegal\n",
      "\n",
      "\n",
      "\n",
      "\u001b[33mYou have 2 updates available. Consider updating your CLI installation. Instructions can be found at https://docs.microsoft.com/en-us/cli/azure/install-azure-cli\u001b[0m\n",
      "\n",
      "\u001b[33m\u001b[1mPlease let us know how we are doing: \u001b[34mhttps://aka.ms/clihats\u001b[0m\n",
      "\u001b[0m"
     ]
    }
   ],
   "source": [
    "!az --version"
   ]
  },
  {
   "cell_type": "markdown",
   "metadata": {},
   "source": [
    "If we want to connect/match physical devices to this cloud-based Edge device later, the connection will be set using the IoT Edge device's connection string. Everything in this cloud-based Edge device will be cloned into the physical device, including all the IoT Edge modules. Thus, we will also be printing out and saving the cloud-based IoT Edge device's connection string for future use."
   ]
  },
  {
   "cell_type": "code",
   "execution_count": 12,
   "metadata": {},
   "outputs": [],
   "source": [
    "%%bash --out iotEdgeDeviceConnString -s \"$resourceGroupName\" \"$iotHubServiceName\" \"$iotDeviceId\"\n",
    "# Create edge device if one does not already exist\n",
    "sudo az iot hub device-identity show --resource-group $1 --hub-name $2 --device-id $3 &> /dev/null\n",
    "\n",
    "if [ $? -ne 0 ]; then\n",
    "    sudo az iot hub device-identity create --hub-name $2 --device-id $3 --edge-enabled &> /dev/null\n",
    "fi\n",
    "\n",
    "sudo az iot hub device-identity show-connection-string --hub-name $2 --device-id $3 --output tsv"
   ]
  },
  {
   "cell_type": "markdown",
   "metadata": {},
   "source": [
    "Run the cell below to save the IoT Edge Device Connection String in the environment file for future use"
   ]
  },
  {
   "cell_type": "code",
   "execution_count": 13,
   "metadata": {},
   "outputs": [],
   "source": [
    "tempVar = set_key(envPath, \"IOT_EDGE_DEVICE_CONN_STRING\", iotEdgeDeviceConnString.rstrip())"
   ]
  },
  {
   "cell_type": "markdown",
   "metadata": {},
   "source": [
    "## Create Azure Storage Services\n",
    "To store assets onto Azure Media Services, we must also create a storage resource."
   ]
  },
  {
   "cell_type": "code",
   "execution_count": 14,
   "metadata": {},
   "outputs": [
    {
     "name": "stdout",
     "output_type": "stream",
     "text": [
      "\u001b[K{- Finished ..\n",
      "  \"accessTier\": null,\n",
      "  \"azureFilesIdentityBasedAuthentication\": null,\n",
      "  \"creationTime\": \"2020-07-06T21:11:58.774880+00:00\",\n",
      "  \"customDomain\": null,\n",
      "  \"enableHttpsTrafficOnly\": true,\n",
      "  \"encryption\": {\n",
      "    \"keySource\": \"Microsoft.Storage\",\n",
      "    \"keyVaultProperties\": null,\n",
      "    \"services\": {\n",
      "      \"blob\": {\n",
      "        \"enabled\": true,\n",
      "        \"keyType\": \"Account\",\n",
      "        \"lastEnabledTime\": \"2020-07-06T21:11:58.868629+00:00\"\n",
      "      },\n",
      "      \"file\": {\n",
      "        \"enabled\": true,\n",
      "        \"keyType\": \"Account\",\n",
      "        \"lastEnabledTime\": \"2020-07-06T21:11:58.868629+00:00\"\n",
      "      },\n",
      "      \"queue\": null,\n",
      "      \"table\": null\n",
      "    }\n",
      "  },\n",
      "  \"failoverInProgress\": null,\n",
      "  \"geoReplicationStats\": null,\n",
      "  \"id\": \"/subscriptions/e78c95ce-3ed7-49eb-a19e-8ebcc73bb608/resourceGroups/lvasample5d672f/providers/Microsoft.Storage/storageAccounts/lvasample5d672fstorage\",\n",
      "  \"identity\": null,\n",
      "  \"isHnsEnabled\": null,\n",
      "  \"kind\": \"Storage\",\n",
      "  \"largeFileSharesState\": null,\n",
      "  \"lastGeoFailoverTime\": null,\n",
      "  \"location\": \"southcentralus\",\n",
      "  \"name\": \"lvasample5d672fstorage\",\n",
      "  \"networkRuleSet\": {\n",
      "    \"bypass\": \"AzureServices\",\n",
      "    \"defaultAction\": \"Allow\",\n",
      "    \"ipRules\": [],\n",
      "    \"virtualNetworkRules\": []\n",
      "  },\n",
      "  \"primaryEndpoints\": {\n",
      "    \"blob\": \"https://lvasample5d672fstorage.blob.core.windows.net/\",\n",
      "    \"dfs\": null,\n",
      "    \"file\": \"https://lvasample5d672fstorage.file.core.windows.net/\",\n",
      "    \"internetEndpoints\": null,\n",
      "    \"microsoftEndpoints\": null,\n",
      "    \"queue\": \"https://lvasample5d672fstorage.queue.core.windows.net/\",\n",
      "    \"table\": \"https://lvasample5d672fstorage.table.core.windows.net/\",\n",
      "    \"web\": null\n",
      "  },\n",
      "  \"primaryLocation\": \"southcentralus\",\n",
      "  \"privateEndpointConnections\": [],\n",
      "  \"provisioningState\": \"Succeeded\",\n",
      "  \"resourceGroup\": \"lvasample5d672f\",\n",
      "  \"routingPreference\": null,\n",
      "  \"secondaryEndpoints\": null,\n",
      "  \"secondaryLocation\": null,\n",
      "  \"sku\": {\n",
      "    \"name\": \"Standard_LRS\",\n",
      "    \"tier\": \"Standard\"\n",
      "  },\n",
      "  \"statusOfPrimary\": \"available\",\n",
      "  \"statusOfSecondary\": null,\n",
      "  \"tags\": {},\n",
      "  \"type\": \"Microsoft.Storage/storageAccounts\"\n",
      "}\n",
      "\u001b[0m"
     ]
    }
   ],
   "source": [
    "!sudo az storage account create --name $storageServiceName --resource-group $resourceGroupName --location $resourceLocation --sku Standard_LRS"
   ]
  },
  {
   "cell_type": "markdown",
   "metadata": {},
   "source": [
    "## Create Azure Media Services\n",
    "\n",
    "Azure Media Services (AMS) is a cloud-based media workflow platform to index, package, protect, and stream video. For this sample, we will be using AMS to archive video clips (Edge streams) generated when our AI module detects motion."
   ]
  },
  {
   "cell_type": "code",
   "execution_count": 15,
   "metadata": {},
   "outputs": [
    {
     "name": "stdout",
     "output_type": "stream",
     "text": [
      "\u001b[36mCommand group 'ams' is in preview. It may be changed/removed in a future release.\u001b[39m\n",
      "{\n",
      "  \"id\": \"/subscriptions/e78c95ce-3ed7-49eb-a19e-8ebcc73bb608/resourceGroups/lvasample5d672f/providers/Microsoft.Media/mediaservices/lvasample5d672fams\",\n",
      "  \"location\": \"South Central US\",\n",
      "  \"mediaServiceId\": \"1359a665-e9cd-4798-80ba-51812f4f525b\",\n",
      "  \"name\": \"lvasample5d672fams\",\n",
      "  \"resourceGroup\": \"lvasample5d672f\",\n",
      "  \"storageAccounts\": [\n",
      "    {\n",
      "      \"id\": \"/subscriptions/e78c95ce-3ed7-49eb-a19e-8ebcc73bb608/resourceGroups/lvasample5d672f/providers/Microsoft.Storage/storageAccounts/lvasample5d672fstorage\",\n",
      "      \"resourceGroup\": \"lvasample5d672f\",\n",
      "      \"type\": \"Primary\"\n",
      "    }\n",
      "  ],\n",
      "  \"tags\": null,\n",
      "  \"type\": \"Microsoft.Media/mediaservices\"\n",
      "}\n",
      "\u001b[0m"
     ]
    }
   ],
   "source": [
    "!sudo az ams account create --name $mediaServiceName --resource-group $resourceGroupName --storage-account $storageServiceName --location $resourceLocation"
   ]
  },
  {
   "cell_type": "markdown",
   "metadata": {},
   "source": [
    "## Create Azure Service Principal\n",
    "A service principal is a security identity used by user-created apps, services, and tools to access Azure resources. Like with the other resources created thus far, we will be creating a service principal and storing the credentials (AAD_TENANT_ID, AAD_SERVICE_PRINCIPAL_ID, and AAD_SERVICE_PRINCIPAL_SECRET) in the .env file. \n"
   ]
  },
  {
   "cell_type": "code",
   "execution_count": 16,
   "metadata": {},
   "outputs": [
    {
     "name": "stderr",
     "output_type": "stream",
     "text": [
      "Command group 'ams' is in preview. It may be changed/removed in a future release.\n",
      "WARNING: Retrying role assignment creation: 1/36\n"
     ]
    }
   ],
   "source": [
    "%%bash --out output -s \"$mediaServiceName\" \"$resourceGroupName\" \n",
    "\n",
    "sudo az ams account sp create --account-name $1 --resource-group $2 --name lvasp$2 --output json\n",
    "\n",
    "if [ $? -ne 0 ]; then\n",
    "    sudo az ams account sp reset-credentials --account-name $1 --resource-group $2 --name lvasp$2 --output json\n",
    "fi"
   ]
  },
  {
   "cell_type": "code",
   "execution_count": 17,
   "metadata": {},
   "outputs": [],
   "source": [
    "import json\n",
    "\n",
    "amssp = json.loads(output)\n",
    "\n",
    "set_key(envPath, \"AAD_TENANT_ID\", amssp['AadTenantId'])\n",
    "set_key(envPath, \"AAD_SERVICE_PRINCIPAL_ID\", amssp['AadClientId'])\n",
    "tempVar = set_key(envPath, \"AAD_SERVICE_PRINCIPAL_SECRET\", amssp['AadSecret'])"
   ]
  },
  {
   "cell_type": "markdown",
   "metadata": {},
   "source": [
    "## Next Steps\n",
    "If all the code cells above have successfully finished running, return to the Readme page to continue.   "
   ]
  }
 ],
 "metadata": {
  "kernelspec": {
   "display_name": "Python 3",
   "language": "python",
   "name": "python3"
  },
  "language_info": {
   "codemirror_mode": {
    "name": "ipython",
    "version": 3
   },
   "file_extension": ".py",
   "mimetype": "text/x-python",
   "name": "python",
   "nbconvert_exporter": "python",
   "pygments_lexer": "ipython3",
   "version": "3.7.6"
  }
 },
 "nbformat": 4,
 "nbformat_minor": 4
}
