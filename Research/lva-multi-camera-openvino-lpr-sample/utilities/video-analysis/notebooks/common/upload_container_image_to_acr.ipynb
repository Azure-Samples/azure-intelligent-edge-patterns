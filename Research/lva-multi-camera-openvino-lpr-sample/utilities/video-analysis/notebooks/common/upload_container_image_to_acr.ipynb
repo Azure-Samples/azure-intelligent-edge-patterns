{
 "cells": [
  {
   "cell_type": "markdown",
   "metadata": {},
   "source": [
    "# Upload Inference Server Container to Azure Container Registry\n",
    "\n",
    "This section assumes that you have the following set up:  \n",
    "* Azure Container Registry (ACR) service and its details (CONTAINER_REGISTRY_USERNAME_myacr, CONTAINER_REGISTRY_PASSWORD_myacr, and ACR_SERVICE_FULL_NAME) are in .env file.\n",
    "* Inference Server container image created from a Dockerfile, and its name is the same as the \"CONTAINER_IMAGE_NAME\" key value in the .env file.\n",
    "\n",
    "If you are using custom values for your container image or container registry, you should update the code below accordingly."
   ]
  },
  {
   "cell_type": "markdown",
   "metadata": {},
   "source": [
    "## Get Global Variables"
   ]
  },
  {
   "cell_type": "code",
   "execution_count": 1,
   "metadata": {},
   "outputs": [],
   "source": [
    "from env_variables import *"
   ]
  },
  {
   "cell_type": "markdown",
   "metadata": {},
   "source": [
    "## Upload Container Image into Azure Container Registry\n",
    "The code below will push the inference server container image into [Azure Container Registry](https://docs.microsoft.com/en-us/azure/container-registry/container-registry-get-started-docker-cli), a cloud-based container registry. ACR and container image details will be retreived from the .env file.  \n",
    "\n",
    "\n",
    "> <span>[!NOTE]</span>\n",
    "> Execution of the below command may take several minutes."
   ]
  },
  {
   "cell_type": "code",
   "execution_count": 2,
   "metadata": {},
   "outputs": [
    {
     "name": "stdout",
     "output_type": "stream",
     "text": [
      "WARNING! Using --password via the CLI is insecure. Use --password-stdin.\n",
      "WARNING! Your password will be stored unencrypted in /home/visionadmin/.docker/config.json.\n",
      "Configure a credential helper to remove this warning. See\n",
      "https://docs.docker.com/engine/reference/commandline/login/#credentials-store\n",
      "\n",
      "Login Succeeded\n"
     ]
    }
   ],
   "source": [
    "!sudo docker login --username $acrUserName --password $acrPassword  $acrServiceFullName"
   ]
  },
  {
   "cell_type": "code",
   "execution_count": 3,
   "metadata": {},
   "outputs": [],
   "source": [
    "!sudo docker tag $containerImageName $acrServiceFullName/$containerImageName"
   ]
  },
  {
   "cell_type": "code",
   "execution_count": 4,
   "metadata": {},
   "outputs": [
    {
     "name": "stdout",
     "output_type": "stream",
     "text": [
      "The push refers to repository [lvasample5d672fcontreg.azurecr.io/lvasample5d672faimodule]\n",
      "\n",
      "\u001b[1B7a072236: Preparing \n",
      "\u001b[1B3e27857f: Preparing \n",
      "\u001b[1B29e2a706: Preparing \n",
      "\u001b[1B5ed54413: Preparing \n",
      "\u001b[1B8c18167c: Preparing \n",
      "\u001b[1Bba856d39: Preparing \n",
      "\u001b[1B483070d7: Preparing \n",
      "\u001b[1Bbb9f5100: Preparing \n",
      "\u001b[1Bfbe01757: Preparing \n",
      "\u001b[1B5280b470: Preparing \n",
      "\u001b[1Bd3d1f5b8: Preparing \n",
      "\u001b[1Ba7bca5b7: Preparing \n",
      "\u001b[1Be1f1e531: Preparing \n",
      "\u001b[1B9d6bc5ec: Preparing \n",
      "\u001b[15Ba072236: Pushed   18.45MB/17.65MB\u001b[15A\u001b[2K\u001b[11A\u001b[2K\u001b[12A\u001b[2K\u001b[10A\u001b[2K\u001b[14A\u001b[2K\u001b[13A\u001b[2K\u001b[15A\u001b[2K\u001b[6A\u001b[2K\u001b[15A\u001b[2K\u001b[2A\u001b[2K\u001b[4A\u001b[2K\u001b[15A\u001b[2K\u001b[1A\u001b[2K\u001b[15A\u001b[2K\u001b[15A\u001b[2K\u001b[15A\u001b[2K\u001b[15A\u001b[2Klatest: digest: sha256:3b3eca0b0305e41f6ff91b28965ab736e5011393c9660796a6204329cd7cb3f7 size: 3467\n"
     ]
    }
   ],
   "source": [
    "!sudo docker push $acrServiceFullName/$containerImageName"
   ]
  },
  {
   "cell_type": "markdown",
   "metadata": {},
   "source": [
    "## Next Steps\n",
    "If all the code cells above have successfully finished running, return to the Readme page to continue.   "
   ]
  }
 ],
 "metadata": {
  "kernelspec": {
   "display_name": "Python 3",
   "language": "python",
   "name": "python3"
  },
  "language_info": {
   "codemirror_mode": {
    "name": "ipython",
    "version": 3
   },
   "file_extension": ".py",
   "mimetype": "text/x-python",
   "name": "python",
   "nbconvert_exporter": "python",
   "pygments_lexer": "ipython3",
   "version": "3.7.6"
  }
 },
 "nbformat": 4,
 "nbformat_minor": 4
}
