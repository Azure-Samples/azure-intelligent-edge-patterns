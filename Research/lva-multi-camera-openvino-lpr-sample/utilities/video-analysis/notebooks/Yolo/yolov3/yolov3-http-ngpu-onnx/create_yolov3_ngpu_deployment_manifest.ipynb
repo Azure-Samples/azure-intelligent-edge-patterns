{
 "cells": [
  {
   "cell_type": "markdown",
   "metadata": {},
   "source": [
    "# Create a Deployment Manifest"
   ]
  },
  {
   "cell_type": "code",
   "execution_count": 4,
   "metadata": {},
   "outputs": [],
   "source": [
    "import sys\n",
    "sys.path.append('../../../common')\n",
    "from env_variables import *"
   ]
  },
  {
   "cell_type": "code",
   "execution_count": 5,
   "metadata": {},
   "outputs": [],
   "source": [
    "# Manifest filenames\n",
    "templateManifestFileName = \"../../../common/deployment.lva_common.template.json\"\n",
    "deploymentManifestFileName = \"../../../common/deployment.lva_yolov3_ngpu.template.json\""
   ]
  },
  {
   "cell_type": "markdown",
   "metadata": {},
   "source": [
    "## Update Deployment Manifest Template"
   ]
  },
  {
   "cell_type": "code",
   "execution_count": 6,
   "metadata": {},
   "outputs": [],
   "source": [
    "import json\n",
    "\n",
    "with open(templateManifestFileName) as f:\n",
    "    data = json.load(f)\n",
    "\n",
    "aiModule = data[\"modulesContent\"][\"$edgeAgent\"][\"properties.desired\"][\"modules\"][\"isEdge\"][\"settings\"][\"createOptions\"][\"HostConfig\"][\"runtime\"]\n",
    "aiModule = aiModule.replace(\"\", \"nvidia\")\n",
    "data[\"modulesContent\"][\"$edgeAgent\"][\"properties.desired\"][\"modules\"][\"isEdge\"][\"settings\"][\"createOptions\"][\"HostConfig\"][\"runtime\"] = aiModule\n",
    "\n",
    "with open(deploymentManifestFileName, \"w\") as f:\n",
    "    json.dump(data, f, indent=4)"
   ]
  },
  {
   "cell_type": "code",
   "execution_count": null,
   "metadata": {},
   "outputs": [],
   "source": []
  }
 ],
 "metadata": {
  "kernelspec": {
   "display_name": "Python 3",
   "language": "python",
   "name": "python3"
  },
  "language_info": {
   "codemirror_mode": {
    "name": "ipython",
    "version": 3
   },
   "file_extension": ".py",
   "mimetype": "text/x-python",
   "name": "python",
   "nbconvert_exporter": "python",
   "pygments_lexer": "ipython3",
   "version": "3.7.6"
  }
 },
 "nbformat": 4,
 "nbformat_minor": 4
}
