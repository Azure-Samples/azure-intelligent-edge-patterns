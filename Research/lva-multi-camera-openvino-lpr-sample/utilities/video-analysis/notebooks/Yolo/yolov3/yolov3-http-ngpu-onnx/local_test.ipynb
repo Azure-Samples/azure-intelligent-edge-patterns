{
 "cells": [
  {
   "cell_type": "markdown",
   "metadata": {},
   "source": [
    "# Test the Docker Container Locally (Optional)\n",
    "\n",
    "Uploading the Docker container onto a cloud-based container registry may be a long process. Thus, before upload, we can **optionally** test our image to see if it works fine. Please review the [requirements](readme.md#build-a-docker-image-of-the-inference-server) for this section before proceeding."
   ]
  },
  {
   "cell_type": "markdown",
   "metadata": {},
   "source": [
    "## Run Docker Container\n",
    "\n",
    "The code snippet below runs our Docker container by mapping the host PC's port 5001.\n",
    "\n",
    "To run the following cells below, you must have the pre-requisities set up from the [previous section](/yolov3-ngpu-onnx/01_requirements.md). Most notably, you must have `curl` installed and have the `docker` command run without `sudo`.\n",
    "\n",
    "> <span>[!NOTE]</span>\n",
    "> Execution of the below command may take several minutes."
   ]
  },
  {
   "cell_type": "code",
   "execution_count": null,
   "metadata": {},
   "outputs": [],
   "source": [
    "import sys\n",
    "sys.path.append('../../../common')\n",
    "from env_variables import *"
   ]
  },
  {
   "cell_type": "code",
   "execution_count": null,
   "metadata": {},
   "outputs": [],
   "source": [
    "!docker run --name isserver --runtime nvidia  -p 5001:5001 -d  -i $containerImageName:latest"
   ]
  },
  {
   "cell_type": "markdown",
   "metadata": {},
   "source": [
    "## Send Sample Image\n",
    "\n",
    "Now call the server score endpoint by sending a sample image.\n",
    "> [!IMPORTANT]\n",
    "> Here the sample image size is and must be 416x416 pixels, as explained in the previous section. The result of the code below should be a Json file with inference results like the following.\n",
    "\n",
    "```\n",
    "{\n",
    "  \"inferences\": [\n",
    "    {\n",
    "      \"type\": \"entity\",\n",
    "      \"entity\": {\n",
    "        \"tag\": {\n",
    "          \"value\": \"person\",\n",
    "          \"confidence\": \"0.97429174\"\n",
    "        },\n",
    "        \"box\": {\n",
    "          \"l\": \"0.717136969933143\",\n",
    "          \"t\": \"0.11114667012141301\",\n",
    "          \"w\": \"0.04447672917292668\",\n",
    "          \"h\": \"0.22909890688382661\"\n",
    "        }\n",
    "      }\n",
    "    },\n",
    "    {\n",
    "      \"type\": \"entity\",\n",
    "      \"entity\": {\n",
    "        \"tag\": {\n",
    "          \"value\": \"person\",\n",
    "          \"confidence\": \"0.9735076\"\n",
    "        },\n",
    "        \"box\": {\n",
    "          \"l\": \"0.6692826197697566\",\n",
    "          \"t\": \"0.11427977451911339\",\n",
    "          \"w\": \"0.04320320716271034\",\n",
    "          \"h\": \"0.24142921887911284\"\n",
    "        }\n",
    "      }\n",
    "    },\n",
    "    {\n",
    "      \"type\": \"entity\",\n",
    "      \"entity\": {\n",
    "        \"tag\": {\n",
    "          \"value\": \"car\",\n",
    "          \"confidence\": \"0.9951142\"\n",
    "        },\n",
    "        \"box\": {\n",
    "          \"l\": \"0.5312079649705154\",\n",
    "          \"t\": \"0.4055887002211351\",\n",
    "          \"w\": \"0.23093663729154146\",\n",
    "          \"h\": \"0.2307723485506498\"\n",
    "        }\n",
    "      }\n",
    "    },\n",
    "    {\n",
    "      \"type\": \"entity\",\n",
    "      \"entity\": {\n",
    "        \"tag\": {\n",
    "          \"value\": \"car\",\n",
    "          \"confidence\": \"0.9914187\"\n",
    "        },\n",
    "        \"box\": {\n",
    "          \"l\": \"0.38438929044283354\",\n",
    "          \"t\": \"0.7749319076538086\",\n",
    "          \"w\": \"0.28147242619441104\",\n",
    "          \"h\": \"0.22948705233060396\"\n",
    "        }\n",
    "      }\n",
    "    }\n",
    "  ]\n",
    "}\n",
    "```\n"
   ]
  },
  {
   "cell_type": "code",
   "execution_count": null,
   "metadata": {},
   "outputs": [],
   "source": [
    "!curl -X POST http://127.0.0.1:5001/score -H \"Content-Type: image/jpeg\" --data-binary @../documents/sample.jpg "
   ]
  },
  {
   "cell_type": "markdown",
   "metadata": {},
   "source": [
    "## Stop Docker Container\n",
    "Finally, stop the running container and deallocate the resources."
   ]
  },
  {
   "cell_type": "code",
   "execution_count": null,
   "metadata": {},
   "outputs": [],
   "source": [
    "!docker stop isserver\n",
    "!docker rm isserver"
   ]
  },
  {
   "cell_type": "markdown",
   "metadata": {},
   "source": [
    "## Next Steps\n",
    "If all the code cells above have successfully finished running, return to the Readme page to continue.   "
   ]
  }
 ],
 "metadata": {
  "language_info": {
   "codemirror_mode": {
    "name": "ipython",
    "version": 3
   },
   "file_extension": ".py",
   "mimetype": "text/x-python",
   "name": "python",
   "nbconvert_exporter": "python",
   "pygments_lexer": "ipython3",
   "version": "3.7.5-final"
  },
  "orig_nbformat": 2,
  "kernelspec": {
   "name": "python37564bit48778587bdfe4116b67b8e502a7fccd9",
   "display_name": "Python 3.7.5 64-bit"
  }
 },
 "nbformat": 4,
 "nbformat_minor": 2
}