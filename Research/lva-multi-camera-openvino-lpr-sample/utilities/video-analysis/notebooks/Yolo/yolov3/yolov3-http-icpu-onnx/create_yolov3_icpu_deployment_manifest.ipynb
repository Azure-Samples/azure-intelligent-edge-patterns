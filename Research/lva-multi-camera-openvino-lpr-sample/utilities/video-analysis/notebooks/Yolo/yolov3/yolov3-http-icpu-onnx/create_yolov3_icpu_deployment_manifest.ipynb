{
 "cells": [
  {
   "cell_type": "markdown",
   "metadata": {},
   "source": [
    "# Create a Deployment Manifest"
   ]
  },
  {
   "cell_type": "code",
   "execution_count": null,
   "metadata": {},
   "outputs": [],
   "source": [
    "import sys\n",
    "sys.path.append('../../../common')\n",
    "from env_variables import *"
   ]
  },
  {
   "cell_type": "code",
   "execution_count": null,
   "metadata": {},
   "outputs": [],
   "source": [
    "# Manifest filenames\n",
    "templateManifestFileName = \"../../../common/deployment.lva_common.template.json\"\n",
    "deploymentManifestFileName = \"../../../common/deployment.lva_yolov3_icpu.template.json\""
   ]
  },
  {
   "cell_type": "markdown",
   "metadata": {},
   "source": [
    "## Update Deployment Manifest Template"
   ]
  },
  {
   "cell_type": "code",
   "execution_count": null,
   "metadata": {},
   "outputs": [],
   "source": [
    "import json\n",
    "\n",
    "with open(templateManifestFileName) as f:\n",
    "    data = json.load(f)\n",
    "\n",
    "aiModule = data[\"modulesContent\"][\"$edgeAgent\"][\"properties.desired\"][\"modules\"][\"isEdge\"][\"settings\"][\"createOptions\"][\"HostConfig\"][\"runtime\"]\n",
    "aiModule = aiModule.replace(\"\", \"\")\n",
    "data[\"modulesContent\"][\"$edgeAgent\"][\"properties.desired\"][\"modules\"][\"isEdge\"][\"settings\"][\"createOptions\"][\"HostConfig\"][\"runtime\"] = aiModule\n",
    "\n",
    "with open(deploymentManifestFileName, \"w\") as f:\n",
    "    json.dump(data, f, indent=4)"
   ]
  }
 ],
 "metadata": {
  "language_info": {
   "codemirror_mode": {
    "name": "ipython",
    "version": 3
   },
   "file_extension": ".py",
   "mimetype": "text/x-python",
   "name": "python",
   "nbconvert_exporter": "python",
   "pygments_lexer": "ipython3",
   "version": 3
  },
  "orig_nbformat": 2
 },
 "nbformat": 4,
 "nbformat_minor": 2
}